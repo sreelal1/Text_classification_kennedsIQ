{
  "nbformat": 4,
  "nbformat_minor": 0,
  "metadata": {
    "colab": {
      "name": "final_2.ipynb",
      "provenance": [],
      "collapsed_sections": []
    },
    "kernelspec": {
      "name": "python3",
      "display_name": "Python 3"
    },
    "language_info": {
      "name": "python"
    },
    "accelerator": "TPU"
  },
  "cells": [
    {
      "cell_type": "markdown",
      "source": [
        "As I am using google colab for model building, connecting colab session with gdrive"
      ],
      "metadata": {
        "id": "TPH66a0flaTs"
      }
    },
    {
      "cell_type": "code",
      "execution_count": null,
      "metadata": {
        "colab": {
          "base_uri": "https://localhost:8080/"
        },
        "id": "bY6ueGiJ2rFJ",
        "outputId": "c5abe0aa-c615-4c69-8155-4a7e51faa21b"
      },
      "outputs": [
        {
          "output_type": "stream",
          "name": "stdout",
          "text": [
            "Mounted at /content/drive\n"
          ]
        }
      ],
      "source": [
        "from google.colab import drive\n",
        "drive.mount('/content/drive')"
      ]
    },
    {
      "cell_type": "markdown",
      "source": [
        "Checking if the path is correct"
      ],
      "metadata": {
        "id": "rFQvjOOglt8C"
      }
    },
    {
      "cell_type": "code",
      "source": [
        "import os\n",
        "path= '/content/drive/MyDrive/Colab Notebooks/NLP_tranformers/data_clean.csv'\n",
        "print(os.path.isfile(path))"
      ],
      "metadata": {
        "colab": {
          "base_uri": "https://localhost:8080/"
        },
        "id": "h9kvkFCN2xv-",
        "outputId": "f1feb384-dc87-4ff0-a263-b0ee933c06af"
      },
      "execution_count": null,
      "outputs": [
        {
          "output_type": "stream",
          "name": "stdout",
          "text": [
            "True\n"
          ]
        }
      ]
    },
    {
      "cell_type": "code",
      "source": [
        "import pandas as pd\n",
        "df = pd.read_csv(path)\n",
        "df = df[['text','label']]\n",
        "df['text'] = df['text'].replace('\\n',' ', regex=True)\n",
        "df.rename(columns={'text': 'article', 'label': 'category'}, inplace=True)\n",
        "df.head()"
      ],
      "metadata": {
        "colab": {
          "base_uri": "https://localhost:8080/",
          "height": 206
        },
        "id": "5TL_kQP_3Avf",
        "outputId": "ec7ba76b-70f8-4257-fce2-1bab62641a30"
      },
      "execution_count": null,
      "outputs": [
        {
          "output_type": "execute_result",
          "data": {
            "text/html": [
              "\n",
              "  <div id=\"df-6110dcc9-8a42-4866-a39d-0c47334e5991\">\n",
              "    <div class=\"colab-df-container\">\n",
              "      <div>\n",
              "<style scoped>\n",
              "    .dataframe tbody tr th:only-of-type {\n",
              "        vertical-align: middle;\n",
              "    }\n",
              "\n",
              "    .dataframe tbody tr th {\n",
              "        vertical-align: top;\n",
              "    }\n",
              "\n",
              "    .dataframe thead th {\n",
              "        text-align: right;\n",
              "    }\n",
              "</style>\n",
              "<table border=\"1\" class=\"dataframe\">\n",
              "  <thead>\n",
              "    <tr style=\"text-align: right;\">\n",
              "      <th></th>\n",
              "      <th>article</th>\n",
              "      <th>category</th>\n",
              "    </tr>\n",
              "  </thead>\n",
              "  <tbody>\n",
              "    <tr>\n",
              "      <th>0</th>\n",
              "      <td>ad sales boost time warner profit  quarterly p...</td>\n",
              "      <td>business</td>\n",
              "    </tr>\n",
              "    <tr>\n",
              "      <th>1</th>\n",
              "      <td>dollar gains on greenspan speech  the dollar h...</td>\n",
              "      <td>business</td>\n",
              "    </tr>\n",
              "    <tr>\n",
              "      <th>2</th>\n",
              "      <td>yukos unit buyer faces loan claim  the owners ...</td>\n",
              "      <td>business</td>\n",
              "    </tr>\n",
              "    <tr>\n",
              "      <th>3</th>\n",
              "      <td>high fuel prices hit ba's profits  british air...</td>\n",
              "      <td>business</td>\n",
              "    </tr>\n",
              "    <tr>\n",
              "      <th>4</th>\n",
              "      <td>pernod takeover talk lifts domecq  shares in u...</td>\n",
              "      <td>business</td>\n",
              "    </tr>\n",
              "  </tbody>\n",
              "</table>\n",
              "</div>\n",
              "      <button class=\"colab-df-convert\" onclick=\"convertToInteractive('df-6110dcc9-8a42-4866-a39d-0c47334e5991')\"\n",
              "              title=\"Convert this dataframe to an interactive table.\"\n",
              "              style=\"display:none;\">\n",
              "        \n",
              "  <svg xmlns=\"http://www.w3.org/2000/svg\" height=\"24px\"viewBox=\"0 0 24 24\"\n",
              "       width=\"24px\">\n",
              "    <path d=\"M0 0h24v24H0V0z\" fill=\"none\"/>\n",
              "    <path d=\"M18.56 5.44l.94 2.06.94-2.06 2.06-.94-2.06-.94-.94-2.06-.94 2.06-2.06.94zm-11 1L8.5 8.5l.94-2.06 2.06-.94-2.06-.94L8.5 2.5l-.94 2.06-2.06.94zm10 10l.94 2.06.94-2.06 2.06-.94-2.06-.94-.94-2.06-.94 2.06-2.06.94z\"/><path d=\"M17.41 7.96l-1.37-1.37c-.4-.4-.92-.59-1.43-.59-.52 0-1.04.2-1.43.59L10.3 9.45l-7.72 7.72c-.78.78-.78 2.05 0 2.83L4 21.41c.39.39.9.59 1.41.59.51 0 1.02-.2 1.41-.59l7.78-7.78 2.81-2.81c.8-.78.8-2.07 0-2.86zM5.41 20L4 18.59l7.72-7.72 1.47 1.35L5.41 20z\"/>\n",
              "  </svg>\n",
              "      </button>\n",
              "      \n",
              "  <style>\n",
              "    .colab-df-container {\n",
              "      display:flex;\n",
              "      flex-wrap:wrap;\n",
              "      gap: 12px;\n",
              "    }\n",
              "\n",
              "    .colab-df-convert {\n",
              "      background-color: #E8F0FE;\n",
              "      border: none;\n",
              "      border-radius: 50%;\n",
              "      cursor: pointer;\n",
              "      display: none;\n",
              "      fill: #1967D2;\n",
              "      height: 32px;\n",
              "      padding: 0 0 0 0;\n",
              "      width: 32px;\n",
              "    }\n",
              "\n",
              "    .colab-df-convert:hover {\n",
              "      background-color: #E2EBFA;\n",
              "      box-shadow: 0px 1px 2px rgba(60, 64, 67, 0.3), 0px 1px 3px 1px rgba(60, 64, 67, 0.15);\n",
              "      fill: #174EA6;\n",
              "    }\n",
              "\n",
              "    [theme=dark] .colab-df-convert {\n",
              "      background-color: #3B4455;\n",
              "      fill: #D2E3FC;\n",
              "    }\n",
              "\n",
              "    [theme=dark] .colab-df-convert:hover {\n",
              "      background-color: #434B5C;\n",
              "      box-shadow: 0px 1px 3px 1px rgba(0, 0, 0, 0.15);\n",
              "      filter: drop-shadow(0px 1px 2px rgba(0, 0, 0, 0.3));\n",
              "      fill: #FFFFFF;\n",
              "    }\n",
              "  </style>\n",
              "\n",
              "      <script>\n",
              "        const buttonEl =\n",
              "          document.querySelector('#df-6110dcc9-8a42-4866-a39d-0c47334e5991 button.colab-df-convert');\n",
              "        buttonEl.style.display =\n",
              "          google.colab.kernel.accessAllowed ? 'block' : 'none';\n",
              "\n",
              "        async function convertToInteractive(key) {\n",
              "          const element = document.querySelector('#df-6110dcc9-8a42-4866-a39d-0c47334e5991');\n",
              "          const dataTable =\n",
              "            await google.colab.kernel.invokeFunction('convertToInteractive',\n",
              "                                                     [key], {});\n",
              "          if (!dataTable) return;\n",
              "\n",
              "          const docLinkHtml = 'Like what you see? Visit the ' +\n",
              "            '<a target=\"_blank\" href=https://colab.research.google.com/notebooks/data_table.ipynb>data table notebook</a>'\n",
              "            + ' to learn more about interactive tables.';\n",
              "          element.innerHTML = '';\n",
              "          dataTable['output_type'] = 'display_data';\n",
              "          await google.colab.output.renderOutput(dataTable, element);\n",
              "          const docLink = document.createElement('div');\n",
              "          docLink.innerHTML = docLinkHtml;\n",
              "          element.appendChild(docLink);\n",
              "        }\n",
              "      </script>\n",
              "    </div>\n",
              "  </div>\n",
              "  "
            ],
            "text/plain": [
              "                                             article  category\n",
              "0  ad sales boost time warner profit  quarterly p...  business\n",
              "1  dollar gains on greenspan speech  the dollar h...  business\n",
              "2  yukos unit buyer faces loan claim  the owners ...  business\n",
              "3  high fuel prices hit ba's profits  british air...  business\n",
              "4  pernod takeover talk lifts domecq  shares in u...  business"
            ]
          },
          "metadata": {},
          "execution_count": 3
        }
      ]
    },
    {
      "cell_type": "code",
      "source": [
        "df['category'].value_counts()"
      ],
      "metadata": {
        "colab": {
          "base_uri": "https://localhost:8080/"
        },
        "id": "DdML7RE3mAg7",
        "outputId": "aed724ce-c272-4be0-c3ee-2698d9e732ed"
      },
      "execution_count": null,
      "outputs": [
        {
          "output_type": "execute_result",
          "data": {
            "text/plain": [
              "sport            495\n",
              "business         495\n",
              "politics         403\n",
              "entertainment    378\n",
              "tech             342\n",
              "Name: category, dtype: int64"
            ]
          },
          "metadata": {},
          "execution_count": 6
        }
      ]
    },
    {
      "cell_type": "markdown",
      "source": [
        "Encoding the categorical targets and creating a new column with encoded values"
      ],
      "metadata": {
        "id": "PPgGKL1tl3kQ"
      }
    },
    {
      "cell_type": "code",
      "source": [
        "possible_labels = df.category.unique()\n",
        "\n",
        "label_dict = {}\n",
        "for index, possible_label in enumerate(possible_labels):\n",
        "    label_dict[possible_label] = index\n",
        "label_dict"
      ],
      "metadata": {
        "id": "cy7OnoVDR1Io",
        "colab": {
          "base_uri": "https://localhost:8080/"
        },
        "outputId": "82e0c642-1d0b-4569-b0b8-a76e58910930"
      },
      "execution_count": null,
      "outputs": [
        {
          "output_type": "execute_result",
          "data": {
            "text/plain": [
              "{'business': 0, 'entertainment': 1, 'politics': 2, 'sport': 3, 'tech': 4}"
            ]
          },
          "metadata": {},
          "execution_count": 7
        }
      ]
    },
    {
      "cell_type": "code",
      "source": [
        "df['label'] = df.category.replace(label_dict)\n",
        "df['label'].value_counts()"
      ],
      "metadata": {
        "colab": {
          "base_uri": "https://localhost:8080/"
        },
        "id": "7NP0NL5eDCsi",
        "outputId": "7897de90-6196-43e3-83d9-7c4205cbfbf0"
      },
      "execution_count": null,
      "outputs": [
        {
          "output_type": "execute_result",
          "data": {
            "text/plain": [
              "3    495\n",
              "0    495\n",
              "2    403\n",
              "1    378\n",
              "4    342\n",
              "Name: label, dtype: int64"
            ]
          },
          "metadata": {},
          "execution_count": 8
        }
      ]
    },
    {
      "cell_type": "markdown",
      "source": [
        "Data splitting"
      ],
      "metadata": {
        "id": "YYeBqg4PmJEc"
      }
    },
    {
      "cell_type": "code",
      "source": [
        "from sklearn.model_selection import train_test_split\n",
        "\n",
        "X_train, X_test, y_train, y_test = train_test_split(df.index.values, \n",
        "                                                  df.label.values, \n",
        "                                                  test_size= 0.2, \n",
        "                                                  random_state=100, \n",
        "                                                  stratify=df.label.values)\n",
        "\n",
        "df['data_type'] = ['not_set']*df.shape[0]\n",
        "\n",
        "df.loc[X_train, 'data_type'] = 'train'\n",
        "df.loc[X_test, 'data_type'] = 'test'\n",
        "\n",
        "df.groupby(['category', 'label', 'data_type']).count()"
      ],
      "metadata": {
        "colab": {
          "base_uri": "https://localhost:8080/",
          "height": 394
        },
        "id": "UYUwVg_ZuSB1",
        "outputId": "eceec0e3-7807-47df-8d4e-0b701730cf4a"
      },
      "execution_count": null,
      "outputs": [
        {
          "output_type": "execute_result",
          "data": {
            "text/html": [
              "\n",
              "  <div id=\"df-254c1682-ca44-433a-8d45-7c198ddb9fbf\">\n",
              "    <div class=\"colab-df-container\">\n",
              "      <div>\n",
              "<style scoped>\n",
              "    .dataframe tbody tr th:only-of-type {\n",
              "        vertical-align: middle;\n",
              "    }\n",
              "\n",
              "    .dataframe tbody tr th {\n",
              "        vertical-align: top;\n",
              "    }\n",
              "\n",
              "    .dataframe thead th {\n",
              "        text-align: right;\n",
              "    }\n",
              "</style>\n",
              "<table border=\"1\" class=\"dataframe\">\n",
              "  <thead>\n",
              "    <tr style=\"text-align: right;\">\n",
              "      <th></th>\n",
              "      <th></th>\n",
              "      <th></th>\n",
              "      <th>article</th>\n",
              "    </tr>\n",
              "    <tr>\n",
              "      <th>category</th>\n",
              "      <th>label</th>\n",
              "      <th>data_type</th>\n",
              "      <th></th>\n",
              "    </tr>\n",
              "  </thead>\n",
              "  <tbody>\n",
              "    <tr>\n",
              "      <th rowspan=\"2\" valign=\"top\">business</th>\n",
              "      <th rowspan=\"2\" valign=\"top\">0</th>\n",
              "      <th>test</th>\n",
              "      <td>99</td>\n",
              "    </tr>\n",
              "    <tr>\n",
              "      <th>train</th>\n",
              "      <td>396</td>\n",
              "    </tr>\n",
              "    <tr>\n",
              "      <th rowspan=\"2\" valign=\"top\">entertainment</th>\n",
              "      <th rowspan=\"2\" valign=\"top\">1</th>\n",
              "      <th>test</th>\n",
              "      <td>76</td>\n",
              "    </tr>\n",
              "    <tr>\n",
              "      <th>train</th>\n",
              "      <td>302</td>\n",
              "    </tr>\n",
              "    <tr>\n",
              "      <th rowspan=\"2\" valign=\"top\">politics</th>\n",
              "      <th rowspan=\"2\" valign=\"top\">2</th>\n",
              "      <th>test</th>\n",
              "      <td>81</td>\n",
              "    </tr>\n",
              "    <tr>\n",
              "      <th>train</th>\n",
              "      <td>322</td>\n",
              "    </tr>\n",
              "    <tr>\n",
              "      <th rowspan=\"2\" valign=\"top\">sport</th>\n",
              "      <th rowspan=\"2\" valign=\"top\">3</th>\n",
              "      <th>test</th>\n",
              "      <td>99</td>\n",
              "    </tr>\n",
              "    <tr>\n",
              "      <th>train</th>\n",
              "      <td>396</td>\n",
              "    </tr>\n",
              "    <tr>\n",
              "      <th rowspan=\"2\" valign=\"top\">tech</th>\n",
              "      <th rowspan=\"2\" valign=\"top\">4</th>\n",
              "      <th>test</th>\n",
              "      <td>68</td>\n",
              "    </tr>\n",
              "    <tr>\n",
              "      <th>train</th>\n",
              "      <td>274</td>\n",
              "    </tr>\n",
              "  </tbody>\n",
              "</table>\n",
              "</div>\n",
              "      <button class=\"colab-df-convert\" onclick=\"convertToInteractive('df-254c1682-ca44-433a-8d45-7c198ddb9fbf')\"\n",
              "              title=\"Convert this dataframe to an interactive table.\"\n",
              "              style=\"display:none;\">\n",
              "        \n",
              "  <svg xmlns=\"http://www.w3.org/2000/svg\" height=\"24px\"viewBox=\"0 0 24 24\"\n",
              "       width=\"24px\">\n",
              "    <path d=\"M0 0h24v24H0V0z\" fill=\"none\"/>\n",
              "    <path d=\"M18.56 5.44l.94 2.06.94-2.06 2.06-.94-2.06-.94-.94-2.06-.94 2.06-2.06.94zm-11 1L8.5 8.5l.94-2.06 2.06-.94-2.06-.94L8.5 2.5l-.94 2.06-2.06.94zm10 10l.94 2.06.94-2.06 2.06-.94-2.06-.94-.94-2.06-.94 2.06-2.06.94z\"/><path d=\"M17.41 7.96l-1.37-1.37c-.4-.4-.92-.59-1.43-.59-.52 0-1.04.2-1.43.59L10.3 9.45l-7.72 7.72c-.78.78-.78 2.05 0 2.83L4 21.41c.39.39.9.59 1.41.59.51 0 1.02-.2 1.41-.59l7.78-7.78 2.81-2.81c.8-.78.8-2.07 0-2.86zM5.41 20L4 18.59l7.72-7.72 1.47 1.35L5.41 20z\"/>\n",
              "  </svg>\n",
              "      </button>\n",
              "      \n",
              "  <style>\n",
              "    .colab-df-container {\n",
              "      display:flex;\n",
              "      flex-wrap:wrap;\n",
              "      gap: 12px;\n",
              "    }\n",
              "\n",
              "    .colab-df-convert {\n",
              "      background-color: #E8F0FE;\n",
              "      border: none;\n",
              "      border-radius: 50%;\n",
              "      cursor: pointer;\n",
              "      display: none;\n",
              "      fill: #1967D2;\n",
              "      height: 32px;\n",
              "      padding: 0 0 0 0;\n",
              "      width: 32px;\n",
              "    }\n",
              "\n",
              "    .colab-df-convert:hover {\n",
              "      background-color: #E2EBFA;\n",
              "      box-shadow: 0px 1px 2px rgba(60, 64, 67, 0.3), 0px 1px 3px 1px rgba(60, 64, 67, 0.15);\n",
              "      fill: #174EA6;\n",
              "    }\n",
              "\n",
              "    [theme=dark] .colab-df-convert {\n",
              "      background-color: #3B4455;\n",
              "      fill: #D2E3FC;\n",
              "    }\n",
              "\n",
              "    [theme=dark] .colab-df-convert:hover {\n",
              "      background-color: #434B5C;\n",
              "      box-shadow: 0px 1px 3px 1px rgba(0, 0, 0, 0.15);\n",
              "      filter: drop-shadow(0px 1px 2px rgba(0, 0, 0, 0.3));\n",
              "      fill: #FFFFFF;\n",
              "    }\n",
              "  </style>\n",
              "\n",
              "      <script>\n",
              "        const buttonEl =\n",
              "          document.querySelector('#df-254c1682-ca44-433a-8d45-7c198ddb9fbf button.colab-df-convert');\n",
              "        buttonEl.style.display =\n",
              "          google.colab.kernel.accessAllowed ? 'block' : 'none';\n",
              "\n",
              "        async function convertToInteractive(key) {\n",
              "          const element = document.querySelector('#df-254c1682-ca44-433a-8d45-7c198ddb9fbf');\n",
              "          const dataTable =\n",
              "            await google.colab.kernel.invokeFunction('convertToInteractive',\n",
              "                                                     [key], {});\n",
              "          if (!dataTable) return;\n",
              "\n",
              "          const docLinkHtml = 'Like what you see? Visit the ' +\n",
              "            '<a target=\"_blank\" href=https://colab.research.google.com/notebooks/data_table.ipynb>data table notebook</a>'\n",
              "            + ' to learn more about interactive tables.';\n",
              "          element.innerHTML = '';\n",
              "          dataTable['output_type'] = 'display_data';\n",
              "          await google.colab.output.renderOutput(dataTable, element);\n",
              "          const docLink = document.createElement('div');\n",
              "          docLink.innerHTML = docLinkHtml;\n",
              "          element.appendChild(docLink);\n",
              "        }\n",
              "      </script>\n",
              "    </div>\n",
              "  </div>\n",
              "  "
            ],
            "text/plain": [
              "                               article\n",
              "category      label data_type         \n",
              "business      0     test            99\n",
              "                    train          396\n",
              "entertainment 1     test            76\n",
              "                    train          302\n",
              "politics      2     test            81\n",
              "                    train          322\n",
              "sport         3     test            99\n",
              "                    train          396\n",
              "tech          4     test            68\n",
              "                    train          274"
            ]
          },
          "metadata": {},
          "execution_count": 9
        }
      ]
    },
    {
      "cell_type": "code",
      "source": [
        "train, test =  train_test_split(df, test_size = 0.2, random_state = 100,stratify=df.label.values)"
      ],
      "metadata": {
        "id": "2EPMuo5hSLvv"
      },
      "execution_count": null,
      "outputs": []
    },
    {
      "cell_type": "code",
      "source": [
        "train['category'].value_counts().plot(kind = 'bar')"
      ],
      "metadata": {
        "colab": {
          "base_uri": "https://localhost:8080/",
          "height": 344
        },
        "id": "FBvIQf5wSOoH",
        "outputId": "6aae0ae1-f609-4141-ee2f-30f03a5be3ac"
      },
      "execution_count": null,
      "outputs": [
        {
          "output_type": "execute_result",
          "data": {
            "text/plain": [
              "<matplotlib.axes._subplots.AxesSubplot at 0x7fd12ff54890>"
            ]
          },
          "metadata": {},
          "execution_count": 11
        },
        {
          "output_type": "display_data",
          "data": {
            "image/png": "[encoded data removed]",
            "text/plain": [
              "<Figure size 432x288 with 1 Axes>"
            ]
          },
          "metadata": {
            "needs_background": "light"
          }
        }
      ]
    },
    {
      "cell_type": "code",
      "source": [
        "train.head()"
      ],
      "metadata": {
        "id": "5OptFwP_7rW5",
        "colab": {
          "base_uri": "https://localhost:8080/",
          "height": 206
        },
        "outputId": "aea04fd4-d2e6-4ab3-e053-e0303dc529b9"
      },
      "execution_count": null,
      "outputs": [
        {
          "output_type": "execute_result",
          "data": {
            "text/html": [
              "\n",
              "  <div id=\"df-a1ce47b3-5ae1-4b54-b582-ac785715d7c3\">\n",
              "    <div class=\"colab-df-container\">\n",
              "      <div>\n",
              "<style scoped>\n",
              "    .dataframe tbody tr th:only-of-type {\n",
              "        vertical-align: middle;\n",
              "    }\n",
              "\n",
              "    .dataframe tbody tr th {\n",
              "        vertical-align: top;\n",
              "    }\n",
              "\n",
              "    .dataframe thead th {\n",
              "        text-align: right;\n",
              "    }\n",
              "</style>\n",
              "<table border=\"1\" class=\"dataframe\">\n",
              "  <thead>\n",
              "    <tr style=\"text-align: right;\">\n",
              "      <th></th>\n",
              "      <th>article</th>\n",
              "      <th>category</th>\n",
              "      <th>label</th>\n",
              "      <th>data_type</th>\n",
              "    </tr>\n",
              "  </thead>\n",
              "  <tbody>\n",
              "    <tr>\n",
              "      <th>2108</th>\n",
              "      <td>broadband fuels online expression  fast web ac...</td>\n",
              "      <td>tech</td>\n",
              "      <td>4</td>\n",
              "      <td>train</td>\n",
              "    </tr>\n",
              "    <tr>\n",
              "      <th>517</th>\n",
              "      <td>famed music director viotti dies  conductor ma...</td>\n",
              "      <td>entertainment</td>\n",
              "      <td>1</td>\n",
              "      <td>train</td>\n",
              "    </tr>\n",
              "    <tr>\n",
              "      <th>888</th>\n",
              "      <td>crisis 'ahead in social sciences'  a national ...</td>\n",
              "      <td>politics</td>\n",
              "      <td>2</td>\n",
              "      <td>train</td>\n",
              "    </tr>\n",
              "    <tr>\n",
              "      <th>626</th>\n",
              "      <td>sir paul rocks super bowl crowds  sir paul mcc...</td>\n",
              "      <td>entertainment</td>\n",
              "      <td>1</td>\n",
              "      <td>train</td>\n",
              "    </tr>\n",
              "    <tr>\n",
              "      <th>978</th>\n",
              "      <td>howard attacks cost of asylum  michael howard ...</td>\n",
              "      <td>politics</td>\n",
              "      <td>2</td>\n",
              "      <td>train</td>\n",
              "    </tr>\n",
              "  </tbody>\n",
              "</table>\n",
              "</div>\n",
              "      <button class=\"colab-df-convert\" onclick=\"convertToInteractive('df-a1ce47b3-5ae1-4b54-b582-ac785715d7c3')\"\n",
              "              title=\"Convert this dataframe to an interactive table.\"\n",
              "              style=\"display:none;\">\n",
              "        \n",
              "  <svg xmlns=\"http://www.w3.org/2000/svg\" height=\"24px\"viewBox=\"0 0 24 24\"\n",
              "       width=\"24px\">\n",
              "    <path d=\"M0 0h24v24H0V0z\" fill=\"none\"/>\n",
              "    <path d=\"M18.56 5.44l.94 2.06.94-2.06 2.06-.94-2.06-.94-.94-2.06-.94 2.06-2.06.94zm-11 1L8.5 8.5l.94-2.06 2.06-.94-2.06-.94L8.5 2.5l-.94 2.06-2.06.94zm10 10l.94 2.06.94-2.06 2.06-.94-2.06-.94-.94-2.06-.94 2.06-2.06.94z\"/><path d=\"M17.41 7.96l-1.37-1.37c-.4-.4-.92-.59-1.43-.59-.52 0-1.04.2-1.43.59L10.3 9.45l-7.72 7.72c-.78.78-.78 2.05 0 2.83L4 21.41c.39.39.9.59 1.41.59.51 0 1.02-.2 1.41-.59l7.78-7.78 2.81-2.81c.8-.78.8-2.07 0-2.86zM5.41 20L4 18.59l7.72-7.72 1.47 1.35L5.41 20z\"/>\n",
              "  </svg>\n",
              "      </button>\n",
              "      \n",
              "  <style>\n",
              "    .colab-df-container {\n",
              "      display:flex;\n",
              "      flex-wrap:wrap;\n",
              "      gap: 12px;\n",
              "    }\n",
              "\n",
              "    .colab-df-convert {\n",
              "      background-color: #E8F0FE;\n",
              "      border: none;\n",
              "      border-radius: 50%;\n",
              "      cursor: pointer;\n",
              "      display: none;\n",
              "      fill: #1967D2;\n",
              "      height: 32px;\n",
              "      padding: 0 0 0 0;\n",
              "      width: 32px;\n",
              "    }\n",
              "\n",
              "    .colab-df-convert:hover {\n",
              "      background-color: #E2EBFA;\n",
              "      box-shadow: 0px 1px 2px rgba(60, 64, 67, 0.3), 0px 1px 3px 1px rgba(60, 64, 67, 0.15);\n",
              "      fill: #174EA6;\n",
              "    }\n",
              "\n",
              "    [theme=dark] .colab-df-convert {\n",
              "      background-color: #3B4455;\n",
              "      fill: #D2E3FC;\n",
              "    }\n",
              "\n",
              "    [theme=dark] .colab-df-convert:hover {\n",
              "      background-color: #434B5C;\n",
              "      box-shadow: 0px 1px 3px 1px rgba(0, 0, 0, 0.15);\n",
              "      filter: drop-shadow(0px 1px 2px rgba(0, 0, 0, 0.3));\n",
              "      fill: #FFFFFF;\n",
              "    }\n",
              "  </style>\n",
              "\n",
              "      <script>\n",
              "        const buttonEl =\n",
              "          document.querySelector('#df-a1ce47b3-5ae1-4b54-b582-ac785715d7c3 button.colab-df-convert');\n",
              "        buttonEl.style.display =\n",
              "          google.colab.kernel.accessAllowed ? 'block' : 'none';\n",
              "\n",
              "        async function convertToInteractive(key) {\n",
              "          const element = document.querySelector('#df-a1ce47b3-5ae1-4b54-b582-ac785715d7c3');\n",
              "          const dataTable =\n",
              "            await google.colab.kernel.invokeFunction('convertToInteractive',\n",
              "                                                     [key], {});\n",
              "          if (!dataTable) return;\n",
              "\n",
              "          const docLinkHtml = 'Like what you see? Visit the ' +\n",
              "            '<a target=\"_blank\" href=https://colab.research.google.com/notebooks/data_table.ipynb>data table notebook</a>'\n",
              "            + ' to learn more about interactive tables.';\n",
              "          element.innerHTML = '';\n",
              "          dataTable['output_type'] = 'display_data';\n",
              "          await google.colab.output.renderOutput(dataTable, element);\n",
              "          const docLink = document.createElement('div');\n",
              "          docLink.innerHTML = docLinkHtml;\n",
              "          element.appendChild(docLink);\n",
              "        }\n",
              "      </script>\n",
              "    </div>\n",
              "  </div>\n",
              "  "
            ],
            "text/plain": [
              "                                                article  ... data_type\n",
              "2108  broadband fuels online expression  fast web ac...  ...     train\n",
              "517   famed music director viotti dies  conductor ma...  ...     train\n",
              "888   crisis 'ahead in social sciences'  a national ...  ...     train\n",
              "626   sir paul rocks super bowl crowds  sir paul mcc...  ...     train\n",
              "978   howard attacks cost of asylum  michael howard ...  ...     train\n",
              "\n",
              "[5 rows x 4 columns]"
            ]
          },
          "metadata": {},
          "execution_count": 12
        }
      ]
    },
    {
      "cell_type": "code",
      "source": [
        "test.head()"
      ],
      "metadata": {
        "colab": {
          "base_uri": "https://localhost:8080/",
          "height": 206
        },
        "id": "izAfN8_A7wTe",
        "outputId": "2475105c-bcd6-4f0d-9c54-74d79ad4c91f"
      },
      "execution_count": null,
      "outputs": [
        {
          "output_type": "execute_result",
          "data": {
            "text/html": [
              "\n",
              "  <div id=\"df-b4541b29-1370-4361-a507-139191939a2a\">\n",
              "    <div class=\"colab-df-container\">\n",
              "      <div>\n",
              "<style scoped>\n",
              "    .dataframe tbody tr th:only-of-type {\n",
              "        vertical-align: middle;\n",
              "    }\n",
              "\n",
              "    .dataframe tbody tr th {\n",
              "        vertical-align: top;\n",
              "    }\n",
              "\n",
              "    .dataframe thead th {\n",
              "        text-align: right;\n",
              "    }\n",
              "</style>\n",
              "<table border=\"1\" class=\"dataframe\">\n",
              "  <thead>\n",
              "    <tr style=\"text-align: right;\">\n",
              "      <th></th>\n",
              "      <th>article</th>\n",
              "      <th>category</th>\n",
              "      <th>label</th>\n",
              "      <th>data_type</th>\n",
              "    </tr>\n",
              "  </thead>\n",
              "  <tbody>\n",
              "    <tr>\n",
              "      <th>646</th>\n",
              "      <td>outkast win at mtv europe awards  us hip-hop d...</td>\n",
              "      <td>entertainment</td>\n",
              "      <td>1</td>\n",
              "      <td>test</td>\n",
              "    </tr>\n",
              "    <tr>\n",
              "      <th>1734</th>\n",
              "      <td>faultless federer has no equal  roger federer ...</td>\n",
              "      <td>sport</td>\n",
              "      <td>3</td>\n",
              "      <td>test</td>\n",
              "    </tr>\n",
              "    <tr>\n",
              "      <th>830</th>\n",
              "      <td>us composer recreates bach score  a us musicol...</td>\n",
              "      <td>entertainment</td>\n",
              "      <td>1</td>\n",
              "      <td>test</td>\n",
              "    </tr>\n",
              "    <tr>\n",
              "      <th>542</th>\n",
              "      <td>'landmark movies' of 2004 hailed  us film prof...</td>\n",
              "      <td>entertainment</td>\n",
              "      <td>1</td>\n",
              "      <td>test</td>\n",
              "    </tr>\n",
              "    <tr>\n",
              "      <th>1268</th>\n",
              "      <td>tories urge 'change at the top'  tory delegate...</td>\n",
              "      <td>politics</td>\n",
              "      <td>2</td>\n",
              "      <td>test</td>\n",
              "    </tr>\n",
              "  </tbody>\n",
              "</table>\n",
              "</div>\n",
              "      <button class=\"colab-df-convert\" onclick=\"convertToInteractive('df-b4541b29-1370-4361-a507-139191939a2a')\"\n",
              "              title=\"Convert this dataframe to an interactive table.\"\n",
              "              style=\"display:none;\">\n",
              "        \n",
              "  <svg xmlns=\"http://www.w3.org/2000/svg\" height=\"24px\"viewBox=\"0 0 24 24\"\n",
              "       width=\"24px\">\n",
              "    <path d=\"M0 0h24v24H0V0z\" fill=\"none\"/>\n",
              "    <path d=\"M18.56 5.44l.94 2.06.94-2.06 2.06-.94-2.06-.94-.94-2.06-.94 2.06-2.06.94zm-11 1L8.5 8.5l.94-2.06 2.06-.94-2.06-.94L8.5 2.5l-.94 2.06-2.06.94zm10 10l.94 2.06.94-2.06 2.06-.94-2.06-.94-.94-2.06-.94 2.06-2.06.94z\"/><path d=\"M17.41 7.96l-1.37-1.37c-.4-.4-.92-.59-1.43-.59-.52 0-1.04.2-1.43.59L10.3 9.45l-7.72 7.72c-.78.78-.78 2.05 0 2.83L4 21.41c.39.39.9.59 1.41.59.51 0 1.02-.2 1.41-.59l7.78-7.78 2.81-2.81c.8-.78.8-2.07 0-2.86zM5.41 20L4 18.59l7.72-7.72 1.47 1.35L5.41 20z\"/>\n",
              "  </svg>\n",
              "      </button>\n",
              "      \n",
              "  <style>\n",
              "    .colab-df-container {\n",
              "      display:flex;\n",
              "      flex-wrap:wrap;\n",
              "      gap: 12px;\n",
              "    }\n",
              "\n",
              "    .colab-df-convert {\n",
              "      background-color: #E8F0FE;\n",
              "      border: none;\n",
              "      border-radius: 50%;\n",
              "      cursor: pointer;\n",
              "      display: none;\n",
              "      fill: #1967D2;\n",
              "      height: 32px;\n",
              "      padding: 0 0 0 0;\n",
              "      width: 32px;\n",
              "    }\n",
              "\n",
              "    .colab-df-convert:hover {\n",
              "      background-color: #E2EBFA;\n",
              "      box-shadow: 0px 1px 2px rgba(60, 64, 67, 0.3), 0px 1px 3px 1px rgba(60, 64, 67, 0.15);\n",
              "      fill: #174EA6;\n",
              "    }\n",
              "\n",
              "    [theme=dark] .colab-df-convert {\n",
              "      background-color: #3B4455;\n",
              "      fill: #D2E3FC;\n",
              "    }\n",
              "\n",
              "    [theme=dark] .colab-df-convert:hover {\n",
              "      background-color: #434B5C;\n",
              "      box-shadow: 0px 1px 3px 1px rgba(0, 0, 0, 0.15);\n",
              "      filter: drop-shadow(0px 1px 2px rgba(0, 0, 0, 0.3));\n",
              "      fill: #FFFFFF;\n",
              "    }\n",
              "  </style>\n",
              "\n",
              "      <script>\n",
              "        const buttonEl =\n",
              "          document.querySelector('#df-b4541b29-1370-4361-a507-139191939a2a button.colab-df-convert');\n",
              "        buttonEl.style.display =\n",
              "          google.colab.kernel.accessAllowed ? 'block' : 'none';\n",
              "\n",
              "        async function convertToInteractive(key) {\n",
              "          const element = document.querySelector('#df-b4541b29-1370-4361-a507-139191939a2a');\n",
              "          const dataTable =\n",
              "            await google.colab.kernel.invokeFunction('convertToInteractive',\n",
              "                                                     [key], {});\n",
              "          if (!dataTable) return;\n",
              "\n",
              "          const docLinkHtml = 'Like what you see? Visit the ' +\n",
              "            '<a target=\"_blank\" href=https://colab.research.google.com/notebooks/data_table.ipynb>data table notebook</a>'\n",
              "            + ' to learn more about interactive tables.';\n",
              "          element.innerHTML = '';\n",
              "          dataTable['output_type'] = 'display_data';\n",
              "          await google.colab.output.renderOutput(dataTable, element);\n",
              "          const docLink = document.createElement('div');\n",
              "          docLink.innerHTML = docLinkHtml;\n",
              "          element.appendChild(docLink);\n",
              "        }\n",
              "      </script>\n",
              "    </div>\n",
              "  </div>\n",
              "  "
            ],
            "text/plain": [
              "                                                article  ... data_type\n",
              "646   outkast win at mtv europe awards  us hip-hop d...  ...      test\n",
              "1734  faultless federer has no equal  roger federer ...  ...      test\n",
              "830   us composer recreates bach score  a us musicol...  ...      test\n",
              "542   'landmark movies' of 2004 hailed  us film prof...  ...      test\n",
              "1268  tories urge 'change at the top'  tory delegate...  ...      test\n",
              "\n",
              "[5 rows x 4 columns]"
            ]
          },
          "metadata": {},
          "execution_count": 13
        }
      ]
    },
    {
      "cell_type": "markdown",
      "source": [
        "Data preprcessing using pretrained transformer architectures (BERT) from tensorflow hub"
      ],
      "metadata": {
        "id": "R0FtOjrXmaQb"
      }
    },
    {
      "cell_type": "code",
      "source": [
        "import numpy as np\n",
        "import keras\n",
        "import tensorflow as tf\n",
        "import tensorflow_hub as hub\n",
        "import logging\n",
        "logging.basicConfig(level=logging.INFO)"
      ],
      "metadata": {
        "id": "gdq42uw47vVl"
      },
      "execution_count": null,
      "outputs": []
    },
    {
      "cell_type": "code",
      "source": [
        "#importing tokenization class from bert official library and other dependencies\n",
        "!wget --quiet https://raw.githubusercontent.com/tensorflow/models/master/official/nlp/bert/tokenization.py\n",
        "!pip install sentencepiece"
      ],
      "metadata": {
        "colab": {
          "base_uri": "https://localhost:8080/"
        },
        "id": "sKW-Cb2k8gKC",
        "outputId": "998d4e12-ef80-4fb7-f5bb-2df4d03c17dc"
      },
      "execution_count": null,
      "outputs": [
        {
          "output_type": "stream",
          "name": "stdout",
          "text": [
            "Collecting sentencepiece\n",
            "  Downloading sentencepiece-0.1.96-cp37-cp37m-manylinux_2_17_x86_64.manylinux2014_x86_64.whl (1.2 MB)\n",
            "\u001b[K     |████████████████████████████████| 1.2 MB 5.4 MB/s \n",
            "\u001b[?25hInstalling collected packages: sentencepiece\n",
            "Successfully installed sentencepiece-0.1.96\n"
          ]
        }
      ]
    },
    {
      "cell_type": "code",
      "source": [
        "import tokenization"
      ],
      "metadata": {
        "id": "WEiKDlE39AoY"
      },
      "execution_count": null,
      "outputs": []
    },
    {
      "cell_type": "markdown",
      "source": [
        "We will now start with the pretrained BERT. In this case we will use the bert_uncased_L-12_H-768_A-12/2 model. We will be using the vocab.txt file in the model to map the words in the dataset to indexes. Also the loaded BERT model is trained on uncased/lowercase data and hence the data we feed to train the model should also be of lowercase.\n",
        "\n",
        "The following code block loads the pre-trained BERT model and initializers a tokenizer object for tokenizing the texts."
      ],
      "metadata": {
        "id": "sbOpsv-jmko7"
      }
    },
    {
      "cell_type": "code",
      "source": [
        "module_url = 'https://tfhub.dev/tensorflow/bert_en_uncased_L-12_H-768_A-12/2'\n",
        "bert_layer = hub.KerasLayer(module_url, trainable=True)\n",
        "vocab_file = bert_layer.resolved_object.vocab_file.asset_path.numpy()\n",
        "do_lower_case = bert_layer.resolved_object.do_lower_case.numpy()\n",
        "tokenizer = tokenization.FullTokenizer(vocab_file, do_lower_case)"
      ],
      "metadata": {
        "colab": {
          "base_uri": "https://localhost:8080/"
        },
        "id": "TVKbouXD9R1c",
        "outputId": "0dcd8602-c673-498e-94c5-34c7126ae890"
      },
      "execution_count": null,
      "outputs": [
        {
          "output_type": "stream",
          "name": "stderr",
          "text": [
            "INFO:absl:Using /tmp/tfhub_modules to cache modules.\n",
            "INFO:absl:Downloading TF-Hub Module 'https://tfhub.dev/tensorflow/bert_en_uncased_L-12_H-768_A-12/2'.\n",
            "INFO:absl:Downloaded https://tfhub.dev/tensorflow/bert_en_uncased_L-12_H-768_A-12/2, Total size: 421.50MB\n",
            "INFO:absl:Downloaded TF-Hub Module 'https://tfhub.dev/tensorflow/bert_en_uncased_L-12_H-768_A-12/2'.\n"
          ]
        }
      ]
    },
    {
      "cell_type": "code",
      "source": [
        "#function defined to encode the text data to a format which the bert model can understand\n",
        "def bert_encode(texts, tokenizer, max_len):\n",
        "  all_word_ids = []\n",
        "  all_masks = []\n",
        "  all_type_ids = []\n",
        "  for text in texts:\n",
        "      text = tokenizer.tokenize(text)\n",
        "          \n",
        "      text = text[:max_len-2]\n",
        "      input_sequence = [\"[CLS]\"] + text + [\"[SEP]\"]\n",
        "      pad_len = max_len - len(input_sequence)\n",
        "      \n",
        "      tokens = tokenizer.convert_tokens_to_ids(input_sequence) + [0] * pad_len\n",
        "      pad_masks = [1] * len(input_sequence) + [0] * pad_len\n",
        "      segment_ids = [0] * max_len\n",
        "      \n",
        "      all_word_ids.append(tokens)\n",
        "      all_masks.append(pad_masks)\n",
        "      all_type_ids.append(segment_ids)\n",
        "  \n",
        "  return np.array(all_word_ids), np.array(all_masks), np.array(all_type_ids)"
      ],
      "metadata": {
        "id": "pjq7tX7h-ORZ"
      },
      "execution_count": null,
      "outputs": []
    },
    {
      "cell_type": "code",
      "source": [
        "#Here is what the tokenised sample of the first training set observation looks like\n",
        "print(tokenizer.tokenize(train.article.values[0]))"
      ],
      "metadata": {
        "colab": {
          "base_uri": "https://localhost:8080/"
        },
        "id": "o9ismsVy-jLi",
        "outputId": "01189ef4-0dda-4119-f05c-596fce2b6df4"
      },
      "execution_count": null,
      "outputs": [
        {
          "output_type": "stream",
          "name": "stdout",
          "text": [
            "['broadband', 'fuels', 'online', 'expression', 'fast', 'web', 'access', 'is', 'encouraging', 'more', 'people', 'to', 'express', 'themselves', 'online', ',', 'research', 'suggests', '.', 'a', 'quarter', 'of', 'broadband', 'users', 'in', 'britain', 'regularly', 'up', '##load', 'content', 'and', 'have', 'personal', 'sites', ',', 'according', 'to', 'a', 'report', 'by', 'uk', 'think', '-', 'tank', 'demos', '.', 'it', 'said', 'that', 'having', 'an', 'always', '-', 'on', ',', 'fast', 'connection', 'is', 'changing', 'the', 'way', 'people', 'use', 'the', 'internet', '.', 'more', 'than', 'five', 'million', 'households', 'in', 'the', 'uk', 'have', 'broadband', 'and', 'that', 'number', 'is', 'growing', 'fast', '.', 'the', 'demos', 'report', 'looked', 'at', 'the', 'impact', 'of', 'broadband', 'on', 'people', \"'\", 's', 'net', 'habits', '.', 'it', 'found', 'that', 'more', 'than', 'half', 'of', 'those', 'with', 'broadband', 'logged', 'on', 'to', 'the', 'web', 'before', 'breakfast', '.', 'one', 'in', 'five', 'even', 'admitted', 'to', 'getting', 'up', 'in', 'the', 'middle', 'of', 'the', 'night', 'to', 'brows', '##e', 'the', 'web', '.', 'more', 'significantly', ',', 'argues', 'the', 'report', ',', 'broadband', 'is', 'encouraging', 'people', 'to', 'take', 'a', 'more', 'active', 'role', 'online', '.', 'it', 'found', 'that', 'one', 'in', 'five', 'post', 'something', 'on', 'the', 'net', 'everyday', ',', 'ranging', 'from', 'comments', 'or', 'opinions', 'on', 'sites', 'to', 'up', '##loading', 'photographs', '.', '\"', 'broadband', 'is', 'putting', 'the', \"'\", 'me', \"'\", 'in', 'media', 'as', 'it', 'shifts', 'power', 'from', 'institutions', 'and', 'into', 'the', 'hands', 'of', 'the', 'individual', ',', '\"', 'said', 'john', 'craig', ',', 'co', '-', 'author', 'of', 'the', 'demos', 'report', '.', '\"', 'from', 'self', '-', 'diagnosis', 'to', 'online', 'education', ',', 'broadband', 'creates', 'social', 'innovation', 'that', 'moves', 'the', 'debate', 'beyond', 'simple', 'questions', 'of', 'access', 'and', 'speed', '.', '\"', 'the', 'demos', 'report', ',', 'entitled', 'broadband', 'britain', ':', 'the', 'end', 'of', 'as', '##ym', '##metry', '?', ',', 'was', 'commissioned', 'by', 'net', 'provider', 'ao', '##l', '.', '\"', 'broadband', 'is', 'moving', 'the', 'perception', 'of', 'the', 'internet', 'as', 'a', 'piece', 'of', 'technology', 'to', 'an', 'integral', 'part', 'of', 'home', 'life', 'in', 'the', 'uk', ',', '\"', 'said', 'karen', 'thomson', ',', 'chief', 'executive', 'of', 'ao', '##l', 'uk', ',', '\"', 'with', 'many', 'people', 'spending', 'time', 'on', 'their', 'computers', 'as', 'automatically', 'as', 'they', 'might', 'switch', 'on', 'the', 'television', 'or', 'radio', '.', '\"', 'according', 'to', 'analysts', 'nielsen', '/', '/', 'net', '##rating', '##s', ',', 'more', 'than', '50', '%', 'of', 'the', '22', '.', '8', 'million', 'uk', 'net', 'users', 'regularly', 'access', '##ing', 'the', 'web', 'from', 'home', 'each', 'month', 'are', 'logging', 'on', 'at', 'high', 'speed', 'they', 'spend', 'twice', 'as', 'long', 'online', 'than', 'people', 'on', 'dial', '-', 'up', 'connections', ',', 'viewing', 'an', 'average', 'of', '1', ',', '44', '##4', 'pages', 'per', 'month', '.', 'the', 'popularity', 'of', 'fast', 'net', 'access', 'is', 'growing', ',', 'partly', 'fuel', '##led', 'by', 'fierce', 'competition', 'over', 'prices', 'and', 'services', '.']\n"
          ]
        }
      ]
    },
    {
      "cell_type": "markdown",
      "source": [
        "We will now format the text in to input features which the BERT model expects."
      ],
      "metadata": {
        "id": "F-qoKat3mxOn"
      }
    },
    {
      "cell_type": "code",
      "source": [
        "# We'll set sequences to be at most 150 tokens long.\n",
        "max_len = 150\n",
        "train_input = bert_encode(train.article.values, tokenizer, max_len=max_len)\n",
        "test_input = bert_encode(test.article.values, tokenizer, max_len=max_len)"
      ],
      "metadata": {
        "id": "NV_qUYoL_AoM"
      },
      "execution_count": null,
      "outputs": []
    },
    {
      "cell_type": "code",
      "source": [
        "train_input"
      ],
      "metadata": {
        "colab": {
          "base_uri": "https://localhost:8080/"
        },
        "id": "MV_gyUi0_DnN",
        "outputId": "837c1ae7-5bf5-410d-83af-2e0236aff975"
      },
      "execution_count": null,
      "outputs": [
        {
          "output_type": "execute_result",
          "data": {
            "text/plain": [
              "(array([[  101, 19595, 20145, ..., 11434,  2111,   102],\n",
              "        [  101, 15607,  2189, ..., 12687,  2234,   102],\n",
              "        [  101,  5325,  1005, ...,  2473,  1005,   102],\n",
              "        ...,\n",
              "        [  101, 10503,  1005, ...,  2193,  2184,   102],\n",
              "        [  101,  9433,  2083, ...,  1998,  2027,   102],\n",
              "        [  101, 12616,  1005, ...,  1011,  1996,   102]]),\n",
              " array([[1, 1, 1, ..., 1, 1, 1],\n",
              "        [1, 1, 1, ..., 1, 1, 1],\n",
              "        [1, 1, 1, ..., 1, 1, 1],\n",
              "        ...,\n",
              "        [1, 1, 1, ..., 1, 1, 1],\n",
              "        [1, 1, 1, ..., 1, 1, 1],\n",
              "        [1, 1, 1, ..., 1, 1, 1]]),\n",
              " array([[0, 0, 0, ..., 0, 0, 0],\n",
              "        [0, 0, 0, ..., 0, 0, 0],\n",
              "        [0, 0, 0, ..., 0, 0, 0],\n",
              "        ...,\n",
              "        [0, 0, 0, ..., 0, 0, 0],\n",
              "        [0, 0, 0, ..., 0, 0, 0],\n",
              "        [0, 0, 0, ..., 0, 0, 0]]))"
            ]
          },
          "metadata": {},
          "execution_count": 89
        }
      ]
    },
    {
      "cell_type": "code",
      "source": [
        "#Doing 1 hot encoding to our label column ie it will create an array of 5 (since we have 5 classes) and put 1 under the category for each row\n",
        "\n",
        "#try this also - 1 hot from tensorflow - \n",
        "#one_hot_labels = tf.one_hot(labels, depth=num_labels, dtype=tf.float32)\n",
        "train_labels = tf.keras.utils.to_categorical(train.label.values, num_classes=5)\n",
        "train_labels"
      ],
      "metadata": {
        "colab": {
          "base_uri": "https://localhost:8080/"
        },
        "id": "tymIKHsA9dTu",
        "outputId": "c6f337a5-12d5-4bfe-d71e-640cb54d67cd"
      },
      "execution_count": null,
      "outputs": [
        {
          "output_type": "execute_result",
          "data": {
            "text/plain": [
              "array([[0., 0., 0., 0., 1.],\n",
              "       [0., 1., 0., 0., 0.],\n",
              "       [0., 0., 1., 0., 0.],\n",
              "       ...,\n",
              "       [0., 0., 1., 0., 0.],\n",
              "       [0., 0., 0., 1., 0.],\n",
              "       [0., 0., 1., 0., 0.]], dtype=float32)"
            ]
          },
          "metadata": {},
          "execution_count": 22
        }
      ]
    },
    {
      "cell_type": "code",
      "source": [
        "#Example on first observation in the training set\n",
        "\n",
        "\n",
        "print(\"Sentence : \", train.article.values[0])\n",
        "print(\"-\"*30)\n",
        "print(\"Tokens : \", tokenizer.tokenize(train.article.values[0]))\n",
        "print(\"-\"*30)\n",
        "print(\"Word IDs : \", all_word_ids[0])\n",
        "print(\"-\"*30)\n",
        "print(\"Input Masks : \", all_masks[0])\n",
        "print(\"-\"*30)\n",
        "print(\"Type IDs : \", all_type_ids[0])"
      ],
      "metadata": {
        "colab": {
          "base_uri": "https://localhost:8080/"
        },
        "id": "5reKEoEw_Lx-",
        "outputId": "7d95a925-6ae9-470b-a436-dd458af0c879"
      },
      "execution_count": null,
      "outputs": [
        {
          "output_type": "stream",
          "name": "stdout",
          "text": [
            "Sentence :  broadband fuels online expression  fast web access is encouraging more people to express themselves online, research suggests.  a quarter of broadband users in britain regularly upload content and have personal sites, according to a report by uk think-tank demos. it said that having an always-on, fast connection is changing the way people use the internet. more than five million households in the uk have broadband and that number is growing fast.  the demos report looked at the impact of broadband on people's net habits. it found that more than half of those with broadband logged on to the web before breakfast. one in five even admitted to getting up in the middle of the night to browse the web.  more significantly, argues the report, broadband is encouraging people to take a more active role online. it found that one in five post something on the net everyday, ranging from comments or opinions on sites to uploading photographs. \"broadband is putting the 'me' in media as it shifts power from institutions and into the hands of the individual,\" said john craig, co-author of the demos report. \"from self-diagnosis to online education, broadband creates social innovation that moves the debate beyond simple questions of access and speed.\" the demos report, entitled broadband britain: the end of asymmetry?, was commissioned by net provider aol. \"broadband is moving the perception of the internet as a piece of technology to an integral part of home life in the uk,\" said karen thomson, chief executive of aol uk, \"with many people spending time on their computers as automatically as they might switch on the television or radio.\" according to analysts nielsen//netratings, more than 50% of the 22.8 million uk net users regularly accessing the web from home each month are logging on at high speed they spend twice as long online than people on dial-up connections, viewing an average of 1,444 pages per month. the popularity of fast net access is growing, partly fuelled by fierce competition over prices and services. \n",
            "------------------------------\n",
            "Tokens :  ['broadband', 'fuels', 'online', 'expression', 'fast', 'web', 'access', 'is', 'encouraging', 'more', 'people', 'to', 'express', 'themselves', 'online', ',', 'research', 'suggests', '.', 'a', 'quarter', 'of', 'broadband', 'users', 'in', 'britain', 'regularly', 'up', '##load', 'content', 'and', 'have', 'personal', 'sites', ',', 'according', 'to', 'a', 'report', 'by', 'uk', 'think', '-', 'tank', 'demos', '.', 'it', 'said', 'that', 'having', 'an', 'always', '-', 'on', ',', 'fast', 'connection', 'is', 'changing', 'the', 'way', 'people', 'use', 'the', 'internet', '.', 'more', 'than', 'five', 'million', 'households', 'in', 'the', 'uk', 'have', 'broadband', 'and', 'that', 'number', 'is', 'growing', 'fast', '.', 'the', 'demos', 'report', 'looked', 'at', 'the', 'impact', 'of', 'broadband', 'on', 'people', \"'\", 's', 'net', 'habits', '.', 'it', 'found', 'that', 'more', 'than', 'half', 'of', 'those', 'with', 'broadband', 'logged', 'on', 'to', 'the', 'web', 'before', 'breakfast', '.', 'one', 'in', 'five', 'even', 'admitted', 'to', 'getting', 'up', 'in', 'the', 'middle', 'of', 'the', 'night', 'to', 'brows', '##e', 'the', 'web', '.', 'more', 'significantly', ',', 'argues', 'the', 'report', ',', 'broadband', 'is', 'encouraging', 'people', 'to', 'take', 'a', 'more', 'active', 'role', 'online', '.', 'it', 'found', 'that', 'one', 'in', 'five', 'post', 'something', 'on', 'the', 'net', 'everyday', ',', 'ranging', 'from', 'comments', 'or', 'opinions', 'on', 'sites', 'to', 'up', '##loading', 'photographs', '.', '\"', 'broadband', 'is', 'putting', 'the', \"'\", 'me', \"'\", 'in', 'media', 'as', 'it', 'shifts', 'power', 'from', 'institutions', 'and', 'into', 'the', 'hands', 'of', 'the', 'individual', ',', '\"', 'said', 'john', 'craig', ',', 'co', '-', 'author', 'of', 'the', 'demos', 'report', '.', '\"', 'from', 'self', '-', 'diagnosis', 'to', 'online', 'education', ',', 'broadband', 'creates', 'social', 'innovation', 'that', 'moves', 'the', 'debate', 'beyond', 'simple', 'questions', 'of', 'access', 'and', 'speed', '.', '\"', 'the', 'demos', 'report', ',', 'entitled', 'broadband', 'britain', ':', 'the', 'end', 'of', 'as', '##ym', '##metry', '?', ',', 'was', 'commissioned', 'by', 'net', 'provider', 'ao', '##l', '.', '\"', 'broadband', 'is', 'moving', 'the', 'perception', 'of', 'the', 'internet', 'as', 'a', 'piece', 'of', 'technology', 'to', 'an', 'integral', 'part', 'of', 'home', 'life', 'in', 'the', 'uk', ',', '\"', 'said', 'karen', 'thomson', ',', 'chief', 'executive', 'of', 'ao', '##l', 'uk', ',', '\"', 'with', 'many', 'people', 'spending', 'time', 'on', 'their', 'computers', 'as', 'automatically', 'as', 'they', 'might', 'switch', 'on', 'the', 'television', 'or', 'radio', '.', '\"', 'according', 'to', 'analysts', 'nielsen', '/', '/', 'net', '##rating', '##s', ',', 'more', 'than', '50', '%', 'of', 'the', '22', '.', '8', 'million', 'uk', 'net', 'users', 'regularly', 'access', '##ing', 'the', 'web', 'from', 'home', 'each', 'month', 'are', 'logging', 'on', 'at', 'high', 'speed', 'they', 'spend', 'twice', 'as', 'long', 'online', 'than', 'people', 'on', 'dial', '-', 'up', 'connections', ',', 'viewing', 'an', 'average', 'of', '1', ',', '44', '##4', 'pages', 'per', 'month', '.', 'the', 'popularity', 'of', 'fast', 'net', 'access', 'is', 'growing', ',', 'partly', 'fuel', '##led', 'by', 'fierce', 'competition', 'over', 'prices', 'and', 'services', '.']\n",
            "------------------------------\n",
            "Word IDs :  [101, 19595, 20145, 3784, 3670, 3435, 4773, 3229, 2003, 11434, 2062, 2111, 2000, 4671, 3209, 3784, 1010, 2470, 6083, 1012, 1037, 4284, 1997, 19595, 5198, 1999, 3725, 5570, 2039, 11066, 4180, 1998, 2031, 3167, 4573, 1010, 2429, 2000, 1037, 3189, 2011, 2866, 2228, 1011, 4951, 18267, 1012, 2009, 2056, 2008, 2383, 2019, 2467, 1011, 2006, 1010, 3435, 4434, 2003, 5278, 1996, 2126, 2111, 2224, 1996, 4274, 1012, 2062, 2084, 2274, 2454, 3911, 1999, 1996, 2866, 2031, 19595, 1998, 2008, 2193, 2003, 3652, 3435, 1012, 1996, 18267, 3189, 2246, 2012, 1996, 4254, 1997, 19595, 2006, 2111, 1005, 1055, 5658, 14243, 1012, 2009, 2179, 2008, 2062, 2084, 2431, 1997, 2216, 2007, 19595, 26618, 2006, 2000, 1996, 4773, 2077, 6350, 1012, 2028, 1999, 2274, 2130, 4914, 2000, 2893, 2039, 1999, 1996, 2690, 1997, 1996, 2305, 2000, 11347, 2063, 1996, 4773, 1012, 2062, 6022, 1010, 9251, 1996, 3189, 1010, 19595, 2003, 11434, 2111, 102]\n",
            "------------------------------\n",
            "Input Masks :  [1, 1, 1, 1, 1, 1, 1, 1, 1, 1, 1, 1, 1, 1, 1, 1, 1, 1, 1, 1, 1, 1, 1, 1, 1, 1, 1, 1, 1, 1, 1, 1, 1, 1, 1, 1, 1, 1, 1, 1, 1, 1, 1, 1, 1, 1, 1, 1, 1, 1, 1, 1, 1, 1, 1, 1, 1, 1, 1, 1, 1, 1, 1, 1, 1, 1, 1, 1, 1, 1, 1, 1, 1, 1, 1, 1, 1, 1, 1, 1, 1, 1, 1, 1, 1, 1, 1, 1, 1, 1, 1, 1, 1, 1, 1, 1, 1, 1, 1, 1, 1, 1, 1, 1, 1, 1, 1, 1, 1, 1, 1, 1, 1, 1, 1, 1, 1, 1, 1, 1, 1, 1, 1, 1, 1, 1, 1, 1, 1, 1, 1, 1, 1, 1, 1, 1, 1, 1, 1, 1, 1, 1, 1, 1, 1, 1, 1, 1, 1, 1]\n",
            "------------------------------\n",
            "Type IDs :  [0, 0, 0, 0, 0, 0, 0, 0, 0, 0, 0, 0, 0, 0, 0, 0, 0, 0, 0, 0, 0, 0, 0, 0, 0, 0, 0, 0, 0, 0, 0, 0, 0, 0, 0, 0, 0, 0, 0, 0, 0, 0, 0, 0, 0, 0, 0, 0, 0, 0, 0, 0, 0, 0, 0, 0, 0, 0, 0, 0, 0, 0, 0, 0, 0, 0, 0, 0, 0, 0, 0, 0, 0, 0, 0, 0, 0, 0, 0, 0, 0, 0, 0, 0, 0, 0, 0, 0, 0, 0, 0, 0, 0, 0, 0, 0, 0, 0, 0, 0, 0, 0, 0, 0, 0, 0, 0, 0, 0, 0, 0, 0, 0, 0, 0, 0, 0, 0, 0, 0, 0, 0, 0, 0, 0, 0, 0, 0, 0, 0, 0, 0, 0, 0, 0, 0, 0, 0, 0, 0, 0, 0, 0, 0, 0, 0, 0, 0, 0, 0]\n"
          ]
        }
      ]
    },
    {
      "cell_type": "code",
      "source": [
        "import numpy as np\n",
        "import pandas as pd\n",
        "import tensorflow as tf\n",
        "import tensorflow_hub as hub\n",
        "import logging\n",
        "logging.basicConfig(level=logging.INFO)"
      ],
      "metadata": {
        "id": "IOYPvHgy54ZA"
      },
      "execution_count": null,
      "outputs": []
    },
    {
      "cell_type": "markdown",
      "source": [
        "Now building A Multi-Class Classifier Model using BERT (BERT layer already imported)"
      ],
      "metadata": {
        "id": "Y19SNRXYnLj3"
      }
    },
    {
      "cell_type": "code",
      "source": [
        "def build_model(bert_layer, max_len):\n",
        "\n",
        "  # defining 3 input layers for input_ids, attn_masks and type_ids\n",
        "    input_word_ids = tf.keras.Input(shape=(max_len,), dtype=tf.int32, name=\"input_word_ids\")\n",
        "    input_mask = tf.keras.Input(shape=(max_len,), dtype=tf.int32, name=\"input_mask\")\n",
        "    segment_ids = tf.keras.Input(shape=(max_len,), dtype=tf.int32, name=\"segment_ids\")\n",
        "  \n",
        "  #defining bert layer and passing the above layers as input\n",
        "    sequence_output, pooled_output= bert_layer([input_word_ids, input_mask, segment_ids])\n",
        "\n",
        "  #bert will generate pooled output and sequence output.\n",
        "  #\"pooled_output\" for classification tasks on an entire sentence.\n",
        "  #\"sequence_outputs\" for token-level output.\n",
        "    clf_output = pooled_output[:, 0, :]\n",
        "  \n",
        "  #these are neural network layers or fully connected newtork for classification\n",
        "    net = tf.keras.layers.Dense(64, activation='relu')(clf_output)\n",
        "    net = tf.keras.layers.Dropout(0.2)(net)\n",
        "    net = tf.keras.layers.Dense(32, activation='relu')(net)\n",
        "    net = tf.keras.layers.Dropout(0.2)(net)\n",
        "    out = tf.keras.layers.Dense(5, activation='softmax')(net)\n",
        "    \n",
        "    model = tf.keras.models.Model(inputs=[input_word_ids, input_mask, segment_ids], outputs=out)\n",
        "    \n",
        "    return model"
      ],
      "metadata": {
        "id": "hqAOCK1r47oG"
      },
      "execution_count": null,
      "outputs": []
    },
    {
      "cell_type": "code",
      "source": [
        "model = build_model(bert_layer, max_len=max_len)\n",
        "model.summary()"
      ],
      "metadata": {
        "colab": {
          "base_uri": "https://localhost:8080/"
        },
        "id": "QfqUaygC6I3p",
        "outputId": "6c5159d0-6ef4-4331-9189-0366438fa72e"
      },
      "execution_count": null,
      "outputs": [
        {
          "output_type": "stream",
          "name": "stdout",
          "text": [
            "Model: \"model\"\n",
            "__________________________________________________________________________________________________\n",
            " Layer (type)                   Output Shape         Param #     Connected to                     \n",
            "==================================================================================================\n",
            " input_word_ids (InputLayer)    [(None, 150)]        0           []                               \n",
            "                                                                                                  \n",
            " input_mask (InputLayer)        [(None, 150)]        0           []                               \n",
            "                                                                                                  \n",
            " segment_ids (InputLayer)       [(None, 150)]        0           []                               \n",
            "                                                                                                  \n",
            " keras_layer (KerasLayer)       [(None, 768),        109482241   ['input_word_ids[0][0]',         \n",
            "                                 (None, 150, 768)]                'input_mask[0][0]',             \n",
            "                                                                  'segment_ids[0][0]']            \n",
            "                                                                                                  \n",
            " tf.__operators__.getitem (Slic  (None, 768)         0           ['keras_layer[0][1]']            \n",
            " ingOpLambda)                                                                                     \n",
            "                                                                                                  \n",
            " dense (Dense)                  (None, 64)           49216       ['tf.__operators__.getitem[0][0]'\n",
            "                                                                 ]                                \n",
            "                                                                                                  \n",
            " dropout (Dropout)              (None, 64)           0           ['dense[0][0]']                  \n",
            "                                                                                                  \n",
            " dense_1 (Dense)                (None, 32)           2080        ['dropout[0][0]']                \n",
            "                                                                                                  \n",
            " dropout_1 (Dropout)            (None, 32)           0           ['dense_1[0][0]']                \n",
            "                                                                                                  \n",
            " dense_2 (Dense)                (None, 5)            165         ['dropout_1[0][0]']              \n",
            "                                                                                                  \n",
            "==================================================================================================\n",
            "Total params: 109,533,702\n",
            "Trainable params: 109,533,701\n",
            "Non-trainable params: 1\n",
            "__________________________________________________________________________________________________\n"
          ]
        }
      ]
    },
    {
      "cell_type": "markdown",
      "source": [
        "Compiling the model\n",
        "\n",
        " \n",
        "\n",
        "1.   Passing initial learning rate and Adam opimizer as per the official BERT documentation.\n",
        "2.   Categorical cross entropy as loss function since it is a multi class classification problem\n",
        "3.   Accuracy as the metric for evaluation"
      ],
      "metadata": {
        "id": "JEn-tSFlnbUw"
      }
    },
    {
      "cell_type": "code",
      "source": [
        "model.compile(tf.keras.optimizers.Adam(lr=1e-5), loss='categorical_crossentropy', metrics=['accuracy'])"
      ],
      "metadata": {
        "colab": {
          "base_uri": "https://localhost:8080/"
        },
        "id": "YVV0mHdFng_L",
        "outputId": "91f85764-38b1-41a8-b388-49f71c3c04b6"
      },
      "execution_count": null,
      "outputs": [
        {
          "output_type": "stream",
          "name": "stderr",
          "text": [
            "/usr/local/lib/python3.7/dist-packages/keras/optimizer_v2/adam.py:105: UserWarning: The `lr` argument is deprecated, use `learning_rate` instead.\n",
            "  super(Adam, self).__init__(name, **kwargs)\n"
          ]
        }
      ]
    },
    {
      "cell_type": "markdown",
      "source": [
        "Training of the model"
      ],
      "metadata": {
        "id": "7-ZHUmzrogKL"
      }
    },
    {
      "cell_type": "code",
      "source": [
        "checkpoint = tf.keras.callbacks.ModelCheckpoint('model.h5', monitor='val_accuracy', save_best_only=True, verbose=1)\n",
        "earlystopping = tf.keras.callbacks.EarlyStopping(monitor='val_accuracy', patience=5, verbose=1)\n",
        "\n",
        "train_history = model.fit(\n",
        "    train_input, train_labels, \n",
        "    validation_split=0.2,\n",
        "    epochs=3,\n",
        "    callbacks=[checkpoint, earlystopping],\n",
        "    batch_size=32,\n",
        "    verbose=1)"
      ],
      "metadata": {
        "colab": {
          "base_uri": "https://localhost:8080/"
        },
        "id": "NOLQ8kNXI74X",
        "outputId": "0bc6b869-b00c-41a1-dad5-1538e2d0f666"
      },
      "execution_count": null,
      "outputs": [
        {
          "output_type": "stream",
          "name": "stdout",
          "text": [
            "Epoch 1/3\n",
            "43/43 [==============================] - ETA: 0s - loss: 1.2303 - accuracy: 0.5163 \n",
            "Epoch 00001: val_accuracy improved from -inf to 0.82840, saving model to model.h5\n",
            "43/43 [==============================] - 2522s 58s/step - loss: 1.2303 - accuracy: 0.5163 - val_loss: 0.5828 - val_accuracy: 0.8284\n",
            "Epoch 2/3\n",
            "43/43 [==============================] - ETA: 0s - loss: 0.4863 - accuracy: 0.8550 \n",
            "Epoch 00002: val_accuracy improved from 0.82840 to 0.96154, saving model to model.h5\n",
            "43/43 [==============================] - 2482s 58s/step - loss: 0.4863 - accuracy: 0.8550 - val_loss: 0.2070 - val_accuracy: 0.9615\n",
            "Epoch 3/3\n",
            "43/43 [==============================] - ETA: 0s - loss: 0.2520 - accuracy: 0.9438 \n",
            "Epoch 00003: val_accuracy improved from 0.96154 to 0.97929, saving model to model.h5\n",
            "43/43 [==============================] - 2481s 58s/step - loss: 0.2520 - accuracy: 0.9438 - val_loss: 0.1159 - val_accuracy: 0.9793\n"
          ]
        }
      ]
    },
    {
      "cell_type": "code",
      "source": [
        "#saving the final model\n",
        "saved_model_path = '/content/drive/MyDrive/Colab Notebooks/NLP_tranformers/model_bert'\n",
        "model.save(saved_model_path)\n",
        "\n",
        "\n",
        "#loading the model from gdrive\n",
        "model = tf.keras.models.load_model('/content/drive/MyDrive/Colab Notebooks/NLP_tranformers/model_bert')"
      ],
      "metadata": {
        "id": "qwtfqO-o3V44"
      },
      "execution_count": null,
      "outputs": []
    },
    {
      "cell_type": "markdown",
      "source": [
        "Model predictions and classification report"
      ],
      "metadata": {
        "id": "J7EpsByvEMX0"
      }
    },
    {
      "cell_type": "code",
      "source": [
        "#predicting the test data set\n",
        "\n",
        "pred = model.predict(test_input)"
      ],
      "metadata": {
        "id": "X1NKc-L63mKr"
      },
      "execution_count": null,
      "outputs": []
    },
    {
      "cell_type": "code",
      "source": [
        "pred"
      ],
      "metadata": {
        "colab": {
          "base_uri": "https://localhost:8080/"
        },
        "id": "UwrKo1Y-8qxT",
        "outputId": "ba784726-1545-47db-9f0f-3dd0471d712f"
      },
      "execution_count": null,
      "outputs": [
        {
          "output_type": "execute_result",
          "data": {
            "text/plain": [
              "array([[1.9846197e-02, 8.3372557e-01, 6.3667528e-02, 4.8925965e-03,\n",
              "        7.7868134e-02],\n",
              "       [6.6133663e-03, 2.4175409e-03, 4.3157395e-03, 9.8305953e-01,\n",
              "        3.5938283e-03],\n",
              "       [2.7506005e-02, 6.9725037e-01, 8.1957400e-02, 5.1684557e-03,\n",
              "        1.8811782e-01],\n",
              "       ...,\n",
              "       [5.3339842e-04, 1.0936215e-03, 9.9692971e-01, 7.4326270e-04,\n",
              "        7.0013036e-04],\n",
              "       [3.8132637e-03, 1.6177733e-03, 4.5456463e-03, 9.8873222e-01,\n",
              "        1.2910572e-03],\n",
              "       [1.5885569e-03, 1.2344175e-03, 9.9463981e-01, 1.2706261e-03,\n",
              "        1.2667115e-03]], dtype=float32)"
            ]
          },
          "metadata": {},
          "execution_count": 92
        }
      ]
    },
    {
      "cell_type": "code",
      "source": [
        "from sklearn.metrics import classification_report"
      ],
      "metadata": {
        "id": "VwOUxbzM9pUd"
      },
      "execution_count": null,
      "outputs": []
    },
    {
      "cell_type": "code",
      "source": [
        "preds = np.argmax(pred)\n",
        "print(classification_report(test_y, preds))"
      ],
      "metadata": {
        "id": "j-hMGtOY-LGY"
      },
      "execution_count": null,
      "outputs": []
    },
    {
      "cell_type": "code",
      "source": [
        "prediction1 = np.argmax(pred[0])\n",
        "prediction1"
      ],
      "metadata": {
        "colab": {
          "base_uri": "https://localhost:8080/"
        },
        "id": "vvUlgfNi8z0H",
        "outputId": "94edc978-5609-4c06-e7a6-34a1c690d4f7"
      },
      "execution_count": null,
      "outputs": [
        {
          "output_type": "execute_result",
          "data": {
            "text/plain": [
              "1"
            ]
          },
          "metadata": {},
          "execution_count": 94
        }
      ]
    },
    {
      "cell_type": "code",
      "source": [
        "label_dict"
      ],
      "metadata": {
        "colab": {
          "base_uri": "https://localhost:8080/"
        },
        "id": "8SHOpwm19IrA",
        "outputId": "baca0cd0-dc9a-453b-ac8c-17187f1d0a67"
      },
      "execution_count": null,
      "outputs": [
        {
          "output_type": "execute_result",
          "data": {
            "text/plain": [
              "{'business': 0, 'entertainment': 1, 'politics': 2, 'sport': 3, 'tech': 4}"
            ]
          },
          "metadata": {},
          "execution_count": 62
        }
      ]
    },
    {
      "cell_type": "code",
      "source": [
        "actual1 = test.label.values[0]\n",
        "actual1"
      ],
      "metadata": {
        "colab": {
          "base_uri": "https://localhost:8080/"
        },
        "id": "YIG41CNhCHck",
        "outputId": "1925b295-a130-43f9-f5e3-57015f631bf3"
      },
      "execution_count": null,
      "outputs": [
        {
          "output_type": "execute_result",
          "data": {
            "text/plain": [
              "1"
            ]
          },
          "metadata": {},
          "execution_count": 96
        }
      ]
    },
    {
      "cell_type": "code",
      "source": [
        "actual2 = np.argmax(pred[1])\n",
        "actual2"
      ],
      "metadata": {
        "colab": {
          "base_uri": "https://localhost:8080/"
        },
        "id": "SApmUC2eCVkO",
        "outputId": "da967224-d6ad-4ecb-d66d-394eb0cf3ec1"
      },
      "execution_count": null,
      "outputs": [
        {
          "output_type": "execute_result",
          "data": {
            "text/plain": [
              "3"
            ]
          },
          "metadata": {},
          "execution_count": 97
        }
      ]
    },
    {
      "cell_type": "code",
      "source": [
        "verify2 = test.label.values[1]\n",
        "verify2"
      ],
      "metadata": {
        "colab": {
          "base_uri": "https://localhost:8080/"
        },
        "id": "C2POZ9hQCaP5",
        "outputId": "3acb4876-4cbd-4a61-ae1c-191868285a3b"
      },
      "execution_count": null,
      "outputs": [
        {
          "output_type": "execute_result",
          "data": {
            "text/plain": [
              "3"
            ]
          },
          "metadata": {},
          "execution_count": 98
        }
      ]
    },
    {
      "cell_type": "code",
      "source": [
        "prediction3 = np.argmax(pred[400])\n",
        "prediction3"
      ],
      "metadata": {
        "colab": {
          "base_uri": "https://localhost:8080/"
        },
        "id": "tilfSBaLCjvz",
        "outputId": "debbbffb-3be0-4f90-d786-a649b0077753"
      },
      "execution_count": null,
      "outputs": [
        {
          "output_type": "execute_result",
          "data": {
            "text/plain": [
              "0"
            ]
          },
          "metadata": {},
          "execution_count": 99
        }
      ]
    },
    {
      "cell_type": "code",
      "source": [
        "actual3 = test.label.values[400]\n",
        "actual3"
      ],
      "metadata": {
        "colab": {
          "base_uri": "https://localhost:8080/"
        },
        "id": "u4sjMHaKCpL3",
        "outputId": "fb4f5d19-24d2-486c-b25f-51e4ce7e133e"
      },
      "execution_count": null,
      "outputs": [
        {
          "output_type": "execute_result",
          "data": {
            "text/plain": [
              "0"
            ]
          },
          "metadata": {},
          "execution_count": 100
        }
      ]
    },
    {
      "cell_type": "code",
      "source": [
        "predictions = np.argmax(pred,axis=1)\n",
        "predictions"
      ],
      "metadata": {
        "colab": {
          "base_uri": "https://localhost:8080/"
        },
        "id": "JDsufd9_C6Px",
        "outputId": "5700ca82-42c4-4ad4-ac10-7bf3ac95a15a"
      },
      "execution_count": null,
      "outputs": [
        {
          "output_type": "execute_result",
          "data": {
            "text/plain": [
              "array([1, 3, 1, 1, 2, 3, 4, 3, 0, 2, 2, 1, 3, 1, 3, 3, 0, 1, 2, 1, 1, 3,\n",
              "       0, 0, 0, 4, 3, 0, 2, 2, 1, 3, 0, 2, 3, 4, 1, 2, 0, 0, 4, 3, 4, 4,\n",
              "       0, 0, 1, 2, 0, 0, 3, 3, 3, 0, 4, 1, 1, 0, 0, 3, 4, 2, 3, 1, 0, 1,\n",
              "       2, 0, 1, 4, 1, 0, 2, 4, 0, 2, 3, 3, 2, 0, 1, 2, 3, 4, 1, 0, 3, 3,\n",
              "       0, 3, 4, 0, 3, 0, 2, 2, 2, 3, 3, 2, 1, 4, 0, 4, 3, 2, 2, 1, 3, 1,\n",
              "       0, 4, 4, 2, 3, 3, 0, 1, 0, 2, 4, 3, 2, 3, 2, 1, 3, 3, 3, 2, 3, 1,\n",
              "       0, 3, 4, 3, 3, 3, 0, 0, 1, 0, 0, 0, 3, 0, 2, 1, 3, 1, 4, 1, 2, 0,\n",
              "       0, 0, 1, 3, 1, 0, 1, 3, 0, 4, 0, 3, 3, 0, 2, 4, 1, 2, 1, 3, 0, 4,\n",
              "       0, 4, 2, 3, 4, 4, 4, 1, 1, 1, 4, 1, 1, 3, 0, 1, 2, 0, 3, 0, 0, 0,\n",
              "       3, 0, 3, 1, 3, 2, 2, 3, 0, 1, 2, 3, 3, 2, 4, 0, 1, 2, 0, 2, 4, 1,\n",
              "       0, 1, 0, 2, 1, 2, 1, 0, 3, 3, 0, 2, 0, 0, 1, 2, 0, 3, 4, 3, 2, 2,\n",
              "       4, 0, 3, 3, 2, 1, 2, 1, 4, 0, 2, 2, 1, 4, 0, 4, 1, 4, 0, 2, 2, 2,\n",
              "       4, 4, 2, 0, 0, 3, 2, 1, 0, 1, 1, 4, 4, 0, 0, 3, 3, 3, 3, 1, 1, 2,\n",
              "       0, 4, 4, 2, 4, 3, 1, 4, 3, 1, 1, 4, 3, 2, 0, 4, 2, 4, 2, 0, 0, 1,\n",
              "       3, 2, 0, 1, 2, 1, 3, 3, 2, 1, 3, 3, 4, 1, 3, 3, 1, 3, 4, 2, 2, 4,\n",
              "       2, 4, 0, 3, 3, 4, 0, 3, 4, 0, 4, 2, 2, 0, 2, 3, 0, 3, 0, 3, 4, 0,\n",
              "       3, 0, 0, 4, 3, 3, 0, 4, 2, 4, 3, 1, 3, 1, 3, 0, 4, 2, 2, 3, 2, 3,\n",
              "       1, 1, 4, 4, 1, 0, 2, 2, 1, 2, 2, 1, 0, 0, 4, 0, 1, 2, 3, 3, 2, 0,\n",
              "       3, 0, 0, 3, 0, 2, 0, 2, 4, 0, 1, 3, 0, 2, 3, 1, 3, 0, 4, 4, 3, 0,\n",
              "       0, 4, 2, 3, 2])"
            ]
          },
          "metadata": {},
          "execution_count": 103
        }
      ]
    },
    {
      "cell_type": "code",
      "source": [
        "actual = test.label.values\n",
        "actual"
      ],
      "metadata": {
        "colab": {
          "base_uri": "https://localhost:8080/"
        },
        "id": "ySRElqprDM5C",
        "outputId": "1b864e7f-1837-4d7c-8490-90b5f0d4d5e8"
      },
      "execution_count": null,
      "outputs": [
        {
          "output_type": "execute_result",
          "data": {
            "text/plain": [
              "array([1, 3, 1, 1, 2, 3, 4, 3, 0, 2, 2, 1, 3, 1, 3, 3, 0, 1, 0, 1, 1, 3,\n",
              "       0, 0, 0, 4, 3, 0, 2, 2, 1, 3, 0, 2, 3, 4, 1, 2, 0, 0, 4, 3, 4, 4,\n",
              "       0, 0, 1, 2, 0, 0, 3, 3, 3, 0, 4, 1, 1, 0, 0, 3, 4, 2, 3, 4, 0, 1,\n",
              "       2, 0, 1, 4, 1, 0, 2, 4, 0, 2, 3, 3, 2, 0, 1, 2, 3, 4, 1, 0, 3, 3,\n",
              "       0, 3, 4, 0, 3, 0, 0, 2, 2, 3, 3, 2, 1, 4, 0, 4, 3, 2, 2, 1, 3, 1,\n",
              "       0, 4, 2, 2, 3, 3, 0, 1, 0, 2, 4, 3, 2, 3, 2, 1, 3, 3, 3, 2, 3, 1,\n",
              "       0, 3, 4, 3, 3, 3, 0, 0, 1, 0, 0, 0, 3, 0, 2, 1, 3, 1, 4, 1, 2, 0,\n",
              "       0, 0, 1, 3, 1, 0, 1, 3, 0, 4, 0, 3, 3, 0, 2, 4, 1, 2, 1, 3, 0, 4,\n",
              "       0, 4, 2, 3, 4, 4, 4, 1, 1, 1, 4, 1, 1, 3, 0, 1, 2, 0, 3, 0, 0, 0,\n",
              "       4, 0, 3, 1, 3, 2, 2, 3, 0, 1, 2, 3, 3, 2, 4, 0, 1, 2, 0, 2, 4, 1,\n",
              "       0, 1, 0, 2, 1, 2, 1, 1, 3, 3, 0, 2, 0, 4, 1, 2, 0, 3, 4, 3, 2, 2,\n",
              "       4, 0, 3, 3, 2, 1, 2, 1, 4, 0, 2, 2, 1, 4, 0, 4, 1, 4, 0, 2, 2, 2,\n",
              "       4, 4, 2, 0, 0, 3, 2, 1, 0, 1, 1, 4, 4, 0, 4, 3, 3, 3, 3, 1, 1, 2,\n",
              "       0, 4, 4, 2, 4, 3, 1, 4, 3, 1, 1, 4, 3, 2, 0, 4, 2, 4, 2, 0, 0, 1,\n",
              "       3, 2, 0, 1, 2, 1, 3, 3, 2, 1, 3, 3, 4, 1, 3, 3, 1, 3, 4, 2, 2, 4,\n",
              "       2, 4, 0, 3, 3, 4, 0, 3, 4, 0, 4, 2, 2, 0, 2, 3, 0, 3, 0, 3, 4, 0,\n",
              "       3, 0, 0, 0, 3, 3, 0, 4, 2, 4, 3, 1, 3, 1, 3, 0, 4, 2, 2, 3, 2, 3,\n",
              "       1, 1, 4, 4, 1, 0, 2, 2, 1, 2, 2, 1, 0, 0, 4, 0, 1, 2, 3, 3, 2, 0,\n",
              "       3, 4, 0, 3, 0, 2, 0, 2, 4, 0, 1, 3, 0, 2, 3, 1, 3, 0, 4, 4, 3, 0,\n",
              "       0, 4, 2, 3, 2])"
            ]
          },
          "metadata": {},
          "execution_count": 104
        }
      ]
    },
    {
      "cell_type": "code",
      "source": [
        "print(classification_report(actual, predictions))"
      ],
      "metadata": {
        "colab": {
          "base_uri": "https://localhost:8080/"
        },
        "id": "S50lSmvgDc5q",
        "outputId": "0f85f252-a37e-48cd-818a-fc3e0222dcb2"
      },
      "execution_count": null,
      "outputs": [
        {
          "output_type": "stream",
          "name": "stdout",
          "text": [
            "              precision    recall  f1-score   support\n",
            "\n",
            "           0       0.96      0.97      0.96        99\n",
            "           1       0.99      0.99      0.99        76\n",
            "           2       0.98      0.99      0.98        81\n",
            "           3       0.99      1.00      0.99        99\n",
            "           4       0.97      0.93      0.95        68\n",
            "\n",
            "    accuracy                           0.98       423\n",
            "   macro avg       0.98      0.97      0.98       423\n",
            "weighted avg       0.98      0.98      0.98       423\n",
            "\n"
          ]
        }
      ]
    },
    {
      "cell_type": "markdown",
      "source": [
        "##Another approach using preprocessing model from TF hub"
      ],
      "metadata": {
        "id": "w07NZ6RRsC0P"
      }
    },
    {
      "cell_type": "code",
      "source": [
        "!pip install tensorflow-text"
      ],
      "metadata": {
        "colab": {
          "base_uri": "https://localhost:8080/"
        },
        "id": "JeHMvILCsNQ5",
        "outputId": "c6eb73d3-5ef9-400a-80a4-06eb19bd75af"
      },
      "execution_count": null,
      "outputs": [
        {
          "output_type": "stream",
          "name": "stdout",
          "text": [
            "Collecting tensorflow-text\n",
            "  Downloading tensorflow_text-2.7.3-cp37-cp37m-manylinux2010_x86_64.whl (4.9 MB)\n",
            "\u001b[K     |████████████████████████████████| 4.9 MB 5.4 MB/s \n",
            "\u001b[?25hRequirement already satisfied: tensorflow<2.8,>=2.7.0 in /usr/local/lib/python3.7/dist-packages (from tensorflow-text) (2.7.0)\n",
            "Requirement already satisfied: tensorflow-hub>=0.8.0 in /usr/local/lib/python3.7/dist-packages (from tensorflow-text) (0.12.0)\n",
            "Requirement already satisfied: numpy>=1.14.5 in /usr/local/lib/python3.7/dist-packages (from tensorflow<2.8,>=2.7.0->tensorflow-text) (1.19.5)\n",
            "Requirement already satisfied: tensorflow-io-gcs-filesystem>=0.21.0 in /usr/local/lib/python3.7/dist-packages (from tensorflow<2.8,>=2.7.0->tensorflow-text) (0.23.1)\n",
            "Requirement already satisfied: wrapt>=1.11.0 in /usr/local/lib/python3.7/dist-packages (from tensorflow<2.8,>=2.7.0->tensorflow-text) (1.13.3)\n",
            "Requirement already satisfied: protobuf>=3.9.2 in /usr/local/lib/python3.7/dist-packages (from tensorflow<2.8,>=2.7.0->tensorflow-text) (3.17.3)\n",
            "Requirement already satisfied: h5py>=2.9.0 in /usr/local/lib/python3.7/dist-packages (from tensorflow<2.8,>=2.7.0->tensorflow-text) (3.1.0)\n",
            "Requirement already satisfied: libclang>=9.0.1 in /usr/local/lib/python3.7/dist-packages (from tensorflow<2.8,>=2.7.0->tensorflow-text) (12.0.0)\n",
            "Requirement already satisfied: astunparse>=1.6.0 in /usr/local/lib/python3.7/dist-packages (from tensorflow<2.8,>=2.7.0->tensorflow-text) (1.6.3)\n",
            "Requirement already satisfied: termcolor>=1.1.0 in /usr/local/lib/python3.7/dist-packages (from tensorflow<2.8,>=2.7.0->tensorflow-text) (1.1.0)\n",
            "Requirement already satisfied: typing-extensions>=3.6.6 in /usr/local/lib/python3.7/dist-packages (from tensorflow<2.8,>=2.7.0->tensorflow-text) (3.10.0.2)\n",
            "Requirement already satisfied: six>=1.12.0 in /usr/local/lib/python3.7/dist-packages (from tensorflow<2.8,>=2.7.0->tensorflow-text) (1.15.0)\n",
            "Requirement already satisfied: keras<2.8,>=2.7.0rc0 in /usr/local/lib/python3.7/dist-packages (from tensorflow<2.8,>=2.7.0->tensorflow-text) (2.7.0)\n",
            "Requirement already satisfied: keras-preprocessing>=1.1.1 in /usr/local/lib/python3.7/dist-packages (from tensorflow<2.8,>=2.7.0->tensorflow-text) (1.1.2)\n",
            "Requirement already satisfied: tensorboard~=2.6 in /usr/local/lib/python3.7/dist-packages (from tensorflow<2.8,>=2.7.0->tensorflow-text) (2.7.0)\n",
            "Requirement already satisfied: grpcio<2.0,>=1.24.3 in /usr/local/lib/python3.7/dist-packages (from tensorflow<2.8,>=2.7.0->tensorflow-text) (1.43.0)\n",
            "Requirement already satisfied: wheel<1.0,>=0.32.0 in /usr/local/lib/python3.7/dist-packages (from tensorflow<2.8,>=2.7.0->tensorflow-text) (0.37.1)\n",
            "Requirement already satisfied: gast<0.5.0,>=0.2.1 in /usr/local/lib/python3.7/dist-packages (from tensorflow<2.8,>=2.7.0->tensorflow-text) (0.4.0)\n",
            "Requirement already satisfied: flatbuffers<3.0,>=1.12 in /usr/local/lib/python3.7/dist-packages (from tensorflow<2.8,>=2.7.0->tensorflow-text) (2.0)\n",
            "Requirement already satisfied: absl-py>=0.4.0 in /usr/local/lib/python3.7/dist-packages (from tensorflow<2.8,>=2.7.0->tensorflow-text) (0.12.0)\n",
            "Requirement already satisfied: opt-einsum>=2.3.2 in /usr/local/lib/python3.7/dist-packages (from tensorflow<2.8,>=2.7.0->tensorflow-text) (3.3.0)\n",
            "Requirement already satisfied: google-pasta>=0.1.1 in /usr/local/lib/python3.7/dist-packages (from tensorflow<2.8,>=2.7.0->tensorflow-text) (0.2.0)\n",
            "Requirement already satisfied: tensorflow-estimator<2.8,~=2.7.0rc0 in /usr/local/lib/python3.7/dist-packages (from tensorflow<2.8,>=2.7.0->tensorflow-text) (2.7.0)\n",
            "Requirement already satisfied: cached-property in /usr/local/lib/python3.7/dist-packages (from h5py>=2.9.0->tensorflow<2.8,>=2.7.0->tensorflow-text) (1.5.2)\n",
            "Requirement already satisfied: setuptools>=41.0.0 in /usr/local/lib/python3.7/dist-packages (from tensorboard~=2.6->tensorflow<2.8,>=2.7.0->tensorflow-text) (57.4.0)\n",
            "Requirement already satisfied: google-auth-oauthlib<0.5,>=0.4.1 in /usr/local/lib/python3.7/dist-packages (from tensorboard~=2.6->tensorflow<2.8,>=2.7.0->tensorflow-text) (0.4.6)\n",
            "Requirement already satisfied: tensorboard-data-server<0.7.0,>=0.6.0 in /usr/local/lib/python3.7/dist-packages (from tensorboard~=2.6->tensorflow<2.8,>=2.7.0->tensorflow-text) (0.6.1)\n",
            "Requirement already satisfied: google-auth<3,>=1.6.3 in /usr/local/lib/python3.7/dist-packages (from tensorboard~=2.6->tensorflow<2.8,>=2.7.0->tensorflow-text) (1.35.0)\n",
            "Requirement already satisfied: requests<3,>=2.21.0 in /usr/local/lib/python3.7/dist-packages (from tensorboard~=2.6->tensorflow<2.8,>=2.7.0->tensorflow-text) (2.23.0)\n",
            "Requirement already satisfied: werkzeug>=0.11.15 in /usr/local/lib/python3.7/dist-packages (from tensorboard~=2.6->tensorflow<2.8,>=2.7.0->tensorflow-text) (1.0.1)\n",
            "Requirement already satisfied: markdown>=2.6.8 in /usr/local/lib/python3.7/dist-packages (from tensorboard~=2.6->tensorflow<2.8,>=2.7.0->tensorflow-text) (3.3.6)\n",
            "Requirement already satisfied: tensorboard-plugin-wit>=1.6.0 in /usr/local/lib/python3.7/dist-packages (from tensorboard~=2.6->tensorflow<2.8,>=2.7.0->tensorflow-text) (1.8.1)\n",
            "Requirement already satisfied: rsa<5,>=3.1.4 in /usr/local/lib/python3.7/dist-packages (from google-auth<3,>=1.6.3->tensorboard~=2.6->tensorflow<2.8,>=2.7.0->tensorflow-text) (4.8)\n",
            "Requirement already satisfied: cachetools<5.0,>=2.0.0 in /usr/local/lib/python3.7/dist-packages (from google-auth<3,>=1.6.3->tensorboard~=2.6->tensorflow<2.8,>=2.7.0->tensorflow-text) (4.2.4)\n",
            "Requirement already satisfied: pyasn1-modules>=0.2.1 in /usr/local/lib/python3.7/dist-packages (from google-auth<3,>=1.6.3->tensorboard~=2.6->tensorflow<2.8,>=2.7.0->tensorflow-text) (0.2.8)\n",
            "Requirement already satisfied: requests-oauthlib>=0.7.0 in /usr/local/lib/python3.7/dist-packages (from google-auth-oauthlib<0.5,>=0.4.1->tensorboard~=2.6->tensorflow<2.8,>=2.7.0->tensorflow-text) (1.3.0)\n",
            "Requirement already satisfied: importlib-metadata>=4.4 in /usr/local/lib/python3.7/dist-packages (from markdown>=2.6.8->tensorboard~=2.6->tensorflow<2.8,>=2.7.0->tensorflow-text) (4.10.0)\n",
            "Requirement already satisfied: zipp>=0.5 in /usr/local/lib/python3.7/dist-packages (from importlib-metadata>=4.4->markdown>=2.6.8->tensorboard~=2.6->tensorflow<2.8,>=2.7.0->tensorflow-text) (3.7.0)\n",
            "Requirement already satisfied: pyasn1<0.5.0,>=0.4.6 in /usr/local/lib/python3.7/dist-packages (from pyasn1-modules>=0.2.1->google-auth<3,>=1.6.3->tensorboard~=2.6->tensorflow<2.8,>=2.7.0->tensorflow-text) (0.4.8)\n",
            "Requirement already satisfied: certifi>=2017.4.17 in /usr/local/lib/python3.7/dist-packages (from requests<3,>=2.21.0->tensorboard~=2.6->tensorflow<2.8,>=2.7.0->tensorflow-text) (2021.10.8)\n",
            "Requirement already satisfied: urllib3!=1.25.0,!=1.25.1,<1.26,>=1.21.1 in /usr/local/lib/python3.7/dist-packages (from requests<3,>=2.21.0->tensorboard~=2.6->tensorflow<2.8,>=2.7.0->tensorflow-text) (1.24.3)\n",
            "Requirement already satisfied: idna<3,>=2.5 in /usr/local/lib/python3.7/dist-packages (from requests<3,>=2.21.0->tensorboard~=2.6->tensorflow<2.8,>=2.7.0->tensorflow-text) (2.10)\n",
            "Requirement already satisfied: chardet<4,>=3.0.2 in /usr/local/lib/python3.7/dist-packages (from requests<3,>=2.21.0->tensorboard~=2.6->tensorflow<2.8,>=2.7.0->tensorflow-text) (3.0.4)\n",
            "Requirement already satisfied: oauthlib>=3.0.0 in /usr/local/lib/python3.7/dist-packages (from requests-oauthlib>=0.7.0->google-auth-oauthlib<0.5,>=0.4.1->tensorboard~=2.6->tensorflow<2.8,>=2.7.0->tensorflow-text) (3.1.1)\n",
            "Installing collected packages: tensorflow-text\n",
            "Successfully installed tensorflow-text-2.7.3\n"
          ]
        }
      ]
    },
    {
      "cell_type": "code",
      "source": [
        "import tensorflow_hub as hub\n",
        "import tensorflow_text as text\n",
        "import numpy as np"
      ],
      "metadata": {
        "id": "-3-NKptwsR2B"
      },
      "execution_count": null,
      "outputs": []
    },
    {
      "cell_type": "code",
      "source": [
        "#copied url from tensorflow hub\n",
        "\n",
        "\n",
        "preprocess_url = \"https://tfhub.dev/tensorflow/bert_en_uncased_preprocess/3\"\n",
        "encoder_url = \"https://tfhub.dev/tensorflow/bert_en_uncased_L-12_H-768_A-12/4\""
      ],
      "metadata": {
        "id": "t45dnL3vsVCV"
      },
      "execution_count": null,
      "outputs": []
    },
    {
      "cell_type": "code",
      "source": [
        "#bert processing model which doesn't require to manually create the ID's as BERT input\n",
        "bert_preprocess_model = hub.KerasLayer(preprocess_url)"
      ],
      "metadata": {
        "colab": {
          "base_uri": "https://localhost:8080/"
        },
        "id": "DDrUemmbsYVU",
        "outputId": "3ff849b1-2735-4c12-c1e8-d64d4a9d431f"
      },
      "execution_count": null,
      "outputs": [
        {
          "output_type": "stream",
          "name": "stderr",
          "text": [
            "INFO:absl:Downloading TF-Hub Module 'https://tfhub.dev/tensorflow/bert_en_uncased_preprocess/3'.\n",
            "INFO:absl:Downloaded https://tfhub.dev/tensorflow/bert_en_uncased_preprocess/3, Total size: 1.96MB\n",
            "INFO:absl:Downloaded TF-Hub Module 'https://tfhub.dev/tensorflow/bert_en_uncased_preprocess/3'.\n"
          ]
        }
      ]
    },
    {
      "cell_type": "code",
      "source": [
        "all_word_ids2 = []\n",
        "all_masks2 = []\n",
        "all_type_ids2 = []\n",
        "def get_sentence_embeding(train):\n",
        "  for i,text in enumerate(train.article.values):\n",
        "    text = bert_preprocess_model([text])\n",
        "    all_word_ids2.append(text[\"input_word_ids\"])\n",
        "    all_masks2.append(text[\"input_mask\"])\n",
        "    all_type_ids2.append(text[\"input_type_ids\"])\n",
        "  return np.array(all_word_ids2), np.array(all_masks2), np.array(all_type_ids2)"
      ],
      "metadata": {
        "id": "WWirYGnlswW6"
      },
      "execution_count": null,
      "outputs": []
    },
    {
      "cell_type": "code",
      "source": [
        "train.article.values[0]"
      ],
      "metadata": {
        "colab": {
          "base_uri": "https://localhost:8080/",
          "height": 105
        },
        "id": "VsTyzGCmx5Bx",
        "outputId": "a9b1fd0d-dcbd-48b4-ad5b-a81ac21b94c8"
      },
      "execution_count": null,
      "outputs": [
        {
          "output_type": "execute_result",
          "data": {
            "application/vnd.google.colaboratory.intrinsic+json": {
              "type": "string"
            },
            "text/plain": [
              "'broadband fuels online expression  fast web access is encouraging more people to express themselves online, research suggests.  a quarter of broadband users in britain regularly upload content and have personal sites, according to a report by uk think-tank demos. it said that having an always-on, fast connection is changing the way people use the internet. more than five million households in the uk have broadband and that number is growing fast.  the demos report looked at the impact of broadband on people\\'s net habits. it found that more than half of those with broadband logged on to the web before breakfast. one in five even admitted to getting up in the middle of the night to browse the web.  more significantly, argues the report, broadband is encouraging people to take a more active role online. it found that one in five post something on the net everyday, ranging from comments or opinions on sites to uploading photographs. \"broadband is putting the \\'me\\' in media as it shifts power from institutions and into the hands of the individual,\" said john craig, co-author of the demos report. \"from self-diagnosis to online education, broadband creates social innovation that moves the debate beyond simple questions of access and speed.\" the demos report, entitled broadband britain: the end of asymmetry?, was commissioned by net provider aol. \"broadband is moving the perception of the internet as a piece of technology to an integral part of home life in the uk,\" said karen thomson, chief executive of aol uk, \"with many people spending time on their computers as automatically as they might switch on the television or radio.\" according to analysts nielsen//netratings, more than 50% of the 22.8 million uk net users regularly accessing the web from home each month are logging on at high speed they spend twice as long online than people on dial-up connections, viewing an average of 1,444 pages per month. the popularity of fast net access is growing, partly fuelled by fierce competition over prices and services. '"
            ]
          },
          "metadata": {},
          "execution_count": 52
        }
      ]
    },
    {
      "cell_type": "code",
      "source": [
        "train_input2 = get_sentence_embeding(train)"
      ],
      "metadata": {
        "id": "LxXDOf3Tx493"
      },
      "execution_count": null,
      "outputs": []
    },
    {
      "cell_type": "markdown",
      "source": [
        "This is another approach to get the vector embedding of tokens. This can be passed to the bert model to build the classifier network"
      ],
      "metadata": {
        "id": "_kbTMDv9yCfE"
      }
    },
    {
      "cell_type": "code",
      "source": [
        "print(\"Sentence : \", train.article.values[0])\n",
        "print(\"-\"*30)\n",
        "print(\"Word IDs : \", all_word_ids2[0])\n",
        "print(\"-\"*30)\n",
        "print(\"Input Masks : \", all_masks2[0])\n",
        "print(\"-\"*30)\n",
        "print(\"Type IDs : \", all_type_ids2[0])"
      ],
      "metadata": {
        "colab": {
          "base_uri": "https://localhost:8080/"
        },
        "id": "dRZzJSfGx47s",
        "outputId": "4b86767d-b951-4b71-8b01-d31d28f347d9"
      },
      "execution_count": null,
      "outputs": [
        {
          "output_type": "stream",
          "name": "stdout",
          "text": [
            "Sentence :  broadband fuels online expression  fast web access is encouraging more people to express themselves online, research suggests.  a quarter of broadband users in britain regularly upload content and have personal sites, according to a report by uk think-tank demos. it said that having an always-on, fast connection is changing the way people use the internet. more than five million households in the uk have broadband and that number is growing fast.  the demos report looked at the impact of broadband on people's net habits. it found that more than half of those with broadband logged on to the web before breakfast. one in five even admitted to getting up in the middle of the night to browse the web.  more significantly, argues the report, broadband is encouraging people to take a more active role online. it found that one in five post something on the net everyday, ranging from comments or opinions on sites to uploading photographs. \"broadband is putting the 'me' in media as it shifts power from institutions and into the hands of the individual,\" said john craig, co-author of the demos report. \"from self-diagnosis to online education, broadband creates social innovation that moves the debate beyond simple questions of access and speed.\" the demos report, entitled broadband britain: the end of asymmetry?, was commissioned by net provider aol. \"broadband is moving the perception of the internet as a piece of technology to an integral part of home life in the uk,\" said karen thomson, chief executive of aol uk, \"with many people spending time on their computers as automatically as they might switch on the television or radio.\" according to analysts nielsen//netratings, more than 50% of the 22.8 million uk net users regularly accessing the web from home each month are logging on at high speed they spend twice as long online than people on dial-up connections, viewing an average of 1,444 pages per month. the popularity of fast net access is growing, partly fuelled by fierce competition over prices and services. \n",
            "------------------------------\n",
            "Word IDs :  tf.Tensor(\n",
            "[[  101 19595 20145  3784  3670  3435  4773  3229  2003 11434  2062  2111\n",
            "   2000  4671  3209  3784  1010  2470  6083  1012  1037  4284  1997 19595\n",
            "   5198  1999  3725  5570  2039 11066  4180  1998  2031  3167  4573  1010\n",
            "   2429  2000  1037  3189  2011  2866  2228  1011  4951 18267  1012  2009\n",
            "   2056  2008  2383  2019  2467  1011  2006  1010  3435  4434  2003  5278\n",
            "   1996  2126  2111  2224  1996  4274  1012  2062  2084  2274  2454  3911\n",
            "   1999  1996  2866  2031 19595  1998  2008  2193  2003  3652  3435  1012\n",
            "   1996 18267  3189  2246  2012  1996  4254  1997 19595  2006  2111  1005\n",
            "   1055  5658 14243  1012  2009  2179  2008  2062  2084  2431  1997  2216\n",
            "   2007 19595 26618  2006  2000  1996  4773  2077  6350  1012  2028  1999\n",
            "   2274  2130  4914  2000  2893  2039  1999   102]], shape=(1, 128), dtype=int32)\n",
            "------------------------------\n",
            "Input Masks :  tf.Tensor(\n",
            "[[1 1 1 1 1 1 1 1 1 1 1 1 1 1 1 1 1 1 1 1 1 1 1 1 1 1 1 1 1 1 1 1 1 1 1 1\n",
            "  1 1 1 1 1 1 1 1 1 1 1 1 1 1 1 1 1 1 1 1 1 1 1 1 1 1 1 1 1 1 1 1 1 1 1 1\n",
            "  1 1 1 1 1 1 1 1 1 1 1 1 1 1 1 1 1 1 1 1 1 1 1 1 1 1 1 1 1 1 1 1 1 1 1 1\n",
            "  1 1 1 1 1 1 1 1 1 1 1 1 1 1 1 1 1 1 1 1]], shape=(1, 128), dtype=int32)\n",
            "------------------------------\n",
            "Type IDs :  tf.Tensor(\n",
            "[[0 0 0 0 0 0 0 0 0 0 0 0 0 0 0 0 0 0 0 0 0 0 0 0 0 0 0 0 0 0 0 0 0 0 0 0\n",
            "  0 0 0 0 0 0 0 0 0 0 0 0 0 0 0 0 0 0 0 0 0 0 0 0 0 0 0 0 0 0 0 0 0 0 0 0\n",
            "  0 0 0 0 0 0 0 0 0 0 0 0 0 0 0 0 0 0 0 0 0 0 0 0 0 0 0 0 0 0 0 0 0 0 0 0\n",
            "  0 0 0 0 0 0 0 0 0 0 0 0 0 0 0 0 0 0 0 0]], shape=(1, 128), dtype=int32)\n"
          ]
        }
      ]
    }
  ]
}